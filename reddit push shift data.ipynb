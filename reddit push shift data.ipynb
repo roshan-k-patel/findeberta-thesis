{
 "cells": [
  {
   "cell_type": "code",
   "execution_count": 226,
   "metadata": {},
   "outputs": [],
   "source": [
    "import pandas as pd\n",
    "from psaw import PushshiftAPI\n",
    "import datetime as dt\n",
    "import matplotlib.pyplot as plt\n",
    "from collections import Counter\n",
    "import seaborn as sns\n",
    "import numpy as np\n",
    "%matplotlib inline\n"
   ]
  },
  {
   "cell_type": "code",
   "execution_count": 13,
   "metadata": {},
   "outputs": [],
   "source": [
    "pd.set_option('display.max_colwidth', None)"
   ]
  },
  {
   "cell_type": "code",
   "execution_count": 2,
   "metadata": {},
   "outputs": [],
   "source": [
    "api = PushshiftAPI()\n"
   ]
  },
  {
   "cell_type": "code",
   "execution_count": 3,
   "metadata": {},
   "outputs": [],
   "source": [
    "start_epoch=int(dt.datetime(2019, 3, 3).timestamp())\n"
   ]
  },
  {
   "cell_type": "code",
   "execution_count": 4,
   "metadata": {},
   "outputs": [],
   "source": [
    "gen = api.search_comments(q='facebook|$FB', after=start_epoch, subreddit=['investing','wallstreetbets','stocks','options','CryptoCurrency'], filter=['body','score','subreddit','created_utc'])\n"
   ]
  },
  {
   "cell_type": "code",
   "execution_count": 5,
   "metadata": {},
   "outputs": [],
   "source": [
    "df = pd.DataFrame([obj.d_ for obj in gen])"
   ]
  },
  {
   "cell_type": "code",
   "execution_count": 6,
   "metadata": {},
   "outputs": [
    {
     "data": {
      "text/plain": [
       "103334"
      ]
     },
     "execution_count": 6,
     "metadata": {},
     "output_type": "execute_result"
    }
   ],
   "source": [
    "len(df)\n",
    "\n"
   ]
  },
  {
   "cell_type": "code",
   "execution_count": 17,
   "metadata": {
    "scrolled": true
   },
   "outputs": [
    {
     "data": {
      "text/html": [
       "<div>\n",
       "<style scoped>\n",
       "    .dataframe tbody tr th:only-of-type {\n",
       "        vertical-align: middle;\n",
       "    }\n",
       "\n",
       "    .dataframe tbody tr th {\n",
       "        vertical-align: top;\n",
       "    }\n",
       "\n",
       "    .dataframe thead th {\n",
       "        text-align: right;\n",
       "    }\n",
       "</style>\n",
       "<table border=\"1\" class=\"dataframe\">\n",
       "  <thead>\n",
       "    <tr style=\"text-align: right;\">\n",
       "      <th></th>\n",
       "      <th>body</th>\n",
       "      <th>created_utc</th>\n",
       "      <th>score</th>\n",
       "      <th>subreddit</th>\n",
       "      <th>created</th>\n",
       "    </tr>\n",
       "  </thead>\n",
       "  <tbody>\n",
       "    <tr>\n",
       "      <th>30</th>\n",
       "      <td>&amp;gt;Probably in the works. FB gets butthurt when ANYONE else is making money but not from them.</td>\n",
       "      <td>1615993164</td>\n",
       "      <td>1</td>\n",
       "      <td>wallstreetbets</td>\n",
       "      <td>1.615964e+09</td>\n",
       "    </tr>\n",
       "    <tr>\n",
       "      <th>31</th>\n",
       "      <td>Can't wait for Facebook Optionplace!</td>\n",
       "      <td>1615993034</td>\n",
       "      <td>10</td>\n",
       "      <td>wallstreetbets</td>\n",
       "      <td>1.615964e+09</td>\n",
       "    </tr>\n",
       "    <tr>\n",
       "      <th>32</th>\n",
       "      <td>&amp;gt;Google and Facebook using photos to train AI has nothing to do with advertising\\n\\nSince when does Google rely on user photos for training the models?</td>\n",
       "      <td>1615992772</td>\n",
       "      <td>1</td>\n",
       "      <td>CryptoCurrency</td>\n",
       "      <td>1.615964e+09</td>\n",
       "    </tr>\n",
       "    <tr>\n",
       "      <th>33</th>\n",
       "      <td>Perhaps you’ve heard of Cambridge Analytica?\\n\\nAlso, Google and Facebook using photos to train AI has nothing to do with advertising. Amazon recording conversations via Alexa has nothing to do with advertising. \\n\\nShall we continue?</td>\n",
       "      <td>1615992019</td>\n",
       "      <td>1</td>\n",
       "      <td>CryptoCurrency</td>\n",
       "      <td>1.615963e+09</td>\n",
       "    </tr>\n",
       "    <tr>\n",
       "      <th>34</th>\n",
       "      <td>FB is a chad, might have to buy some 300 calls for jpow</td>\n",
       "      <td>1615991974</td>\n",
       "      <td>2</td>\n",
       "      <td>wallstreetbets</td>\n",
       "      <td>1.615963e+09</td>\n",
       "    </tr>\n",
       "    <tr>\n",
       "      <th>35</th>\n",
       "      <td>She was the one that was on AOCs podcast talking about how robinhood is the Facebook of trading apps</td>\n",
       "      <td>1615991520</td>\n",
       "      <td>4</td>\n",
       "      <td>wallstreetbets</td>\n",
       "      <td>1.615963e+09</td>\n",
       "    </tr>\n",
       "    <tr>\n",
       "      <th>36</th>\n",
       "      <td>Robinhood = Facebook for trading, got it.</td>\n",
       "      <td>1615991411</td>\n",
       "      <td>3</td>\n",
       "      <td>wallstreetbets</td>\n",
       "      <td>1.615963e+09</td>\n",
       "    </tr>\n",
       "    <tr>\n",
       "      <th>37</th>\n",
       "      <td>Name a tech company that hasn't . Tesla , Apple and facebook are all taking a beating on a daily basis. Anyone who can't think for themselves and gets their information from mainstream media should not be investing.</td>\n",
       "      <td>1615991323</td>\n",
       "      <td>1</td>\n",
       "      <td>stocks</td>\n",
       "      <td>1.615963e+09</td>\n",
       "    </tr>\n",
       "    <tr>\n",
       "      <th>38</th>\n",
       "      <td>FB and SPY go up</td>\n",
       "      <td>1615991167</td>\n",
       "      <td>2</td>\n",
       "      <td>wallstreetbets</td>\n",
       "      <td>1.615962e+09</td>\n",
       "    </tr>\n",
       "    <tr>\n",
       "      <th>39</th>\n",
       "      <td>FB been showing retard strength the past few days. I see you Zuck</td>\n",
       "      <td>1615990951</td>\n",
       "      <td>1</td>\n",
       "      <td>wallstreetbets</td>\n",
       "      <td>1.615962e+09</td>\n",
       "    </tr>\n",
       "    <tr>\n",
       "      <th>40</th>\n",
       "      <td>Everybody agrees Google or Facebook or Twitter or any ad based company does tracking. \\n\\nYou were initially talking about privacy. That’s a very different topic.</td>\n",
       "      <td>1615990663</td>\n",
       "      <td>1</td>\n",
       "      <td>CryptoCurrency</td>\n",
       "      <td>1.615962e+09</td>\n",
       "    </tr>\n",
       "    <tr>\n",
       "      <th>41</th>\n",
       "      <td>Why is FB moonin</td>\n",
       "      <td>1615990275</td>\n",
       "      <td>1</td>\n",
       "      <td>wallstreetbets</td>\n",
       "      <td>1.615961e+09</td>\n",
       "    </tr>\n",
       "    <tr>\n",
       "      <th>42</th>\n",
       "      <td>Volume is low?? Has the stimulus cleared for you guys yet? I’ll probably post on my Facebook to try and get more friends into gme</td>\n",
       "      <td>1615989991</td>\n",
       "      <td>2</td>\n",
       "      <td>wallstreetbets</td>\n",
       "      <td>1.615961e+09</td>\n",
       "    </tr>\n",
       "    <tr>\n",
       "      <th>43</th>\n",
       "      <td>It’s time to get on the horn, on Twitter, on Facebook, on Tik Tok and every other platform you can imagine and let people know: \\n\\nIT’s time!!</td>\n",
       "      <td>1615989086</td>\n",
       "      <td>1</td>\n",
       "      <td>wallstreetbets</td>\n",
       "      <td>1.615960e+09</td>\n",
       "    </tr>\n",
       "    <tr>\n",
       "      <th>44</th>\n",
       "      <td>I get the vaccine today. Will I feel the urge to buy FB calls afterwards?</td>\n",
       "      <td>1615987154</td>\n",
       "      <td>1</td>\n",
       "      <td>wallstreetbets</td>\n",
       "      <td>1.615958e+09</td>\n",
       "    </tr>\n",
       "    <tr>\n",
       "      <th>45</th>\n",
       "      <td>Saw a bunch of people posting their check on facebook..I would be prouder NOT to get one..it'd mean i made over $80k</td>\n",
       "      <td>1615986337</td>\n",
       "      <td>1</td>\n",
       "      <td>wallstreetbets</td>\n",
       "      <td>1.615958e+09</td>\n",
       "    </tr>\n",
       "    <tr>\n",
       "      <th>46</th>\n",
       "      <td>Only good thing that can came out of today is DIS/FB dipping more.</td>\n",
       "      <td>1615986112</td>\n",
       "      <td>1</td>\n",
       "      <td>wallstreetbets</td>\n",
       "      <td>1.615957e+09</td>\n",
       "    </tr>\n",
       "    <tr>\n",
       "      <th>47</th>\n",
       "      <td>Over half the ads i see on reddit/facebook are from crypto.com... tired seeing their shitty cards\\n\\nBut hey it brings visibility to the crypto world, wont be mad at that</td>\n",
       "      <td>1615983720</td>\n",
       "      <td>1</td>\n",
       "      <td>CryptoCurrency</td>\n",
       "      <td>1.615955e+09</td>\n",
       "    </tr>\n",
       "    <tr>\n",
       "      <th>48</th>\n",
       "      <td>I remember a week before the prop 22 vote - uber, lyft, and door dash bombarded twitter and FB with people pretending to be drivers who were happy with their jobs and wanted prop 22 passed. they all had the same talking points.</td>\n",
       "      <td>1615983216</td>\n",
       "      <td>1</td>\n",
       "      <td>investing</td>\n",
       "      <td>1.615954e+09</td>\n",
       "    </tr>\n",
       "    <tr>\n",
       "      <th>49</th>\n",
       "      <td>It can sounds a bit naive but crypto is not only an investment. Even if I have no position when BTC moon I'll be glad because it means people are reconsidering the trust they put in the state, social medias, stock market and so on.\\n\\nMaybe in few years everyone will be in Signal, own crypto assets, unsubscribe facebook / whatsapp / Instagram / Tiktok and reconsider the meaning of their life / jobs.\\n\\nI would be glad to see the society paradigm change before being dead haha ... Everything seems so fake those days when it comes to social, work and politics.\\n\\nBut sure it's important too to dedicate yourself to something meaningful at your own scale and that has nothing to do with money.</td>\n",
       "      <td>1615982859</td>\n",
       "      <td>1</td>\n",
       "      <td>CryptoCurrency</td>\n",
       "      <td>1.615954e+09</td>\n",
       "    </tr>\n",
       "  </tbody>\n",
       "</table>\n",
       "</div>"
      ],
      "text/plain": [
       "                                                                                                                                                                                                                                                                                                                                                                                                                                                                                                                                                                                                                                                                                                                        body  \\\n",
       "30                                                                                                                                                                                                                                                                                                                                                                                                                                                                                                                                                                                                                           &gt;Probably in the works. FB gets butthurt when ANYONE else is making money but not from them.   \n",
       "31                                                                                                                                                                                                                                                                                                                                                                                                                                                                                                                                                                                                                                                                                      Can't wait for Facebook Optionplace!   \n",
       "32                                                                                                                                                                                                                                                                                                                                                                                                                                                                                                                                                                &gt;Google and Facebook using photos to train AI has nothing to do with advertising\\n\\nSince when does Google rely on user photos for training the models?   \n",
       "33                                                                                                                                                                                                                                                                                                                                                                                                                                                                                Perhaps you’ve heard of Cambridge Analytica?\\n\\nAlso, Google and Facebook using photos to train AI has nothing to do with advertising. Amazon recording conversations via Alexa has nothing to do with advertising. \\n\\nShall we continue?   \n",
       "34                                                                                                                                                                                                                                                                                                                                                                                                                                                                                                                                                                                                                                                                   FB is a chad, might have to buy some 300 calls for jpow   \n",
       "35                                                                                                                                                                                                                                                                                                                                                                                                                                                                                                                                                                                                                      She was the one that was on AOCs podcast talking about how robinhood is the Facebook of trading apps   \n",
       "36                                                                                                                                                                                                                                                                                                                                                                                                                                                                                                                                                                                                                                                                                 Robinhood = Facebook for trading, got it.   \n",
       "37                                                                                                                                                                                                                                                                                                                                                                                                                                                                                                   Name a tech company that hasn't . Tesla , Apple and facebook are all taking a beating on a daily basis. Anyone who can't think for themselves and gets their information from mainstream media should not be investing.   \n",
       "38                                                                                                                                                                                                                                                                                                                                                                                                                                                                                                                                                                                                                                                                                                          FB and SPY go up   \n",
       "39                                                                                                                                                                                                                                                                                                                                                                                                                                                                                                                                                                                                                                                         FB been showing retard strength the past few days. I see you Zuck   \n",
       "40                                                                                                                                                                                                                                                                                                                                                                                                                                                                                                                                                        Everybody agrees Google or Facebook or Twitter or any ad based company does tracking. \\n\\nYou were initially talking about privacy. That’s a very different topic.   \n",
       "41                                                                                                                                                                                                                                                                                                                                                                                                                                                                                                                                                                                                                                                                                                          Why is FB moonin   \n",
       "42                                                                                                                                                                                                                                                                                                                                                                                                                                                                                                                                                                                         Volume is low?? Has the stimulus cleared for you guys yet? I’ll probably post on my Facebook to try and get more friends into gme   \n",
       "43                                                                                                                                                                                                                                                                                                                                                                                                                                                                                                                                                                           It’s time to get on the horn, on Twitter, on Facebook, on Tik Tok and every other platform you can imagine and let people know: \\n\\nIT’s time!!   \n",
       "44                                                                                                                                                                                                                                                                                                                                                                                                                                                                                                                                                                                                                                                 I get the vaccine today. Will I feel the urge to buy FB calls afterwards?   \n",
       "45                                                                                                                                                                                                                                                                                                                                                                                                                                                                                                                                                                                                      Saw a bunch of people posting their check on facebook..I would be prouder NOT to get one..it'd mean i made over $80k   \n",
       "46                                                                                                                                                                                                                                                                                                                                                                                                                                                                                                                                                                                                                                                        Only good thing that can came out of today is DIS/FB dipping more.   \n",
       "47                                                                                                                                                                                                                                                                                                                                                                                                                                                                                                                                                Over half the ads i see on reddit/facebook are from crypto.com... tired seeing their shitty cards\\n\\nBut hey it brings visibility to the crypto world, wont be mad at that   \n",
       "48                                                                                                                                                                                                                                                                                                                                                                                                                                                                                       I remember a week before the prop 22 vote - uber, lyft, and door dash bombarded twitter and FB with people pretending to be drivers who were happy with their jobs and wanted prop 22 passed. they all had the same talking points.   \n",
       "49  It can sounds a bit naive but crypto is not only an investment. Even if I have no position when BTC moon I'll be glad because it means people are reconsidering the trust they put in the state, social medias, stock market and so on.\\n\\nMaybe in few years everyone will be in Signal, own crypto assets, unsubscribe facebook / whatsapp / Instagram / Tiktok and reconsider the meaning of their life / jobs.\\n\\nI would be glad to see the society paradigm change before being dead haha ... Everything seems so fake those days when it comes to social, work and politics.\\n\\nBut sure it's important too to dedicate yourself to something meaningful at your own scale and that has nothing to do with money.   \n",
       "\n",
       "    created_utc  score       subreddit       created  \n",
       "30   1615993164      1  wallstreetbets  1.615964e+09  \n",
       "31   1615993034     10  wallstreetbets  1.615964e+09  \n",
       "32   1615992772      1  CryptoCurrency  1.615964e+09  \n",
       "33   1615992019      1  CryptoCurrency  1.615963e+09  \n",
       "34   1615991974      2  wallstreetbets  1.615963e+09  \n",
       "35   1615991520      4  wallstreetbets  1.615963e+09  \n",
       "36   1615991411      3  wallstreetbets  1.615963e+09  \n",
       "37   1615991323      1          stocks  1.615963e+09  \n",
       "38   1615991167      2  wallstreetbets  1.615962e+09  \n",
       "39   1615990951      1  wallstreetbets  1.615962e+09  \n",
       "40   1615990663      1  CryptoCurrency  1.615962e+09  \n",
       "41   1615990275      1  wallstreetbets  1.615961e+09  \n",
       "42   1615989991      2  wallstreetbets  1.615961e+09  \n",
       "43   1615989086      1  wallstreetbets  1.615960e+09  \n",
       "44   1615987154      1  wallstreetbets  1.615958e+09  \n",
       "45   1615986337      1  wallstreetbets  1.615958e+09  \n",
       "46   1615986112      1  wallstreetbets  1.615957e+09  \n",
       "47   1615983720      1  CryptoCurrency  1.615955e+09  \n",
       "48   1615983216      1       investing  1.615954e+09  \n",
       "49   1615982859      1  CryptoCurrency  1.615954e+09  "
      ]
     },
     "execution_count": 17,
     "metadata": {},
     "output_type": "execute_result"
    }
   ],
   "source": [
    "df.iloc[30:50]"
   ]
  },
  {
   "cell_type": "code",
   "execution_count": 8,
   "metadata": {},
   "outputs": [],
   "source": [
    "df.to_csv(\"redditscrape.csv\")"
   ]
  },
  {
   "cell_type": "code",
   "execution_count": 49,
   "metadata": {},
   "outputs": [],
   "source": [
    "df = pd.read_csv('redditscrapecomments.csv')"
   ]
  },
  {
   "cell_type": "code",
   "execution_count": 411,
   "metadata": {},
   "outputs": [
    {
     "data": {
      "text/plain": [
       "103334"
      ]
     },
     "execution_count": 411,
     "metadata": {},
     "output_type": "execute_result"
    }
   ],
   "source": [
    "len(df)"
   ]
  },
  {
   "cell_type": "code",
   "execution_count": 168,
   "metadata": {},
   "outputs": [],
   "source": [
    "count = Counter(df.score).most_common()"
   ]
  },
  {
   "cell_type": "code",
   "execution_count": 169,
   "metadata": {},
   "outputs": [
    {
     "data": {
      "text/plain": [
       "list"
      ]
     },
     "execution_count": 169,
     "metadata": {},
     "output_type": "execute_result"
    }
   ],
   "source": [
    "type(count)"
   ]
  },
  {
   "cell_type": "code",
   "execution_count": 178,
   "metadata": {},
   "outputs": [],
   "source": [
    "df_count = pd.DataFrame(count)\n"
   ]
  },
  {
   "cell_type": "code",
   "execution_count": 179,
   "metadata": {},
   "outputs": [
    {
     "data": {
      "text/html": [
       "<div>\n",
       "<style scoped>\n",
       "    .dataframe tbody tr th:only-of-type {\n",
       "        vertical-align: middle;\n",
       "    }\n",
       "\n",
       "    .dataframe tbody tr th {\n",
       "        vertical-align: top;\n",
       "    }\n",
       "\n",
       "    .dataframe thead th {\n",
       "        text-align: right;\n",
       "    }\n",
       "</style>\n",
       "<table border=\"1\" class=\"dataframe\">\n",
       "  <thead>\n",
       "    <tr style=\"text-align: right;\">\n",
       "      <th></th>\n",
       "      <th>0</th>\n",
       "      <th>1</th>\n",
       "    </tr>\n",
       "  </thead>\n",
       "  <tbody>\n",
       "    <tr>\n",
       "      <th>0</th>\n",
       "      <td>1</td>\n",
       "      <td>60789</td>\n",
       "    </tr>\n",
       "    <tr>\n",
       "      <th>1</th>\n",
       "      <td>2</td>\n",
       "      <td>14602</td>\n",
       "    </tr>\n",
       "    <tr>\n",
       "      <th>2</th>\n",
       "      <td>3</td>\n",
       "      <td>7814</td>\n",
       "    </tr>\n",
       "    <tr>\n",
       "      <th>3</th>\n",
       "      <td>4</td>\n",
       "      <td>3865</td>\n",
       "    </tr>\n",
       "    <tr>\n",
       "      <th>4</th>\n",
       "      <td>0</td>\n",
       "      <td>2957</td>\n",
       "    </tr>\n",
       "    <tr>\n",
       "      <th>...</th>\n",
       "      <td>...</td>\n",
       "      <td>...</td>\n",
       "    </tr>\n",
       "    <tr>\n",
       "      <th>235</th>\n",
       "      <td>177</td>\n",
       "      <td>1</td>\n",
       "    </tr>\n",
       "    <tr>\n",
       "      <th>236</th>\n",
       "      <td>102</td>\n",
       "      <td>1</td>\n",
       "    </tr>\n",
       "    <tr>\n",
       "      <th>237</th>\n",
       "      <td>212</td>\n",
       "      <td>1</td>\n",
       "    </tr>\n",
       "    <tr>\n",
       "      <th>238</th>\n",
       "      <td>302</td>\n",
       "      <td>1</td>\n",
       "    </tr>\n",
       "    <tr>\n",
       "      <th>239</th>\n",
       "      <td>125</td>\n",
       "      <td>1</td>\n",
       "    </tr>\n",
       "  </tbody>\n",
       "</table>\n",
       "<p>240 rows × 2 columns</p>\n",
       "</div>"
      ],
      "text/plain": [
       "       0      1\n",
       "0      1  60789\n",
       "1      2  14602\n",
       "2      3   7814\n",
       "3      4   3865\n",
       "4      0   2957\n",
       "..   ...    ...\n",
       "235  177      1\n",
       "236  102      1\n",
       "237  212      1\n",
       "238  302      1\n",
       "239  125      1\n",
       "\n",
       "[240 rows x 2 columns]"
      ]
     },
     "execution_count": 179,
     "metadata": {},
     "output_type": "execute_result"
    }
   ],
   "source": [
    "df_count"
   ]
  },
  {
   "cell_type": "code",
   "execution_count": 180,
   "metadata": {},
   "outputs": [],
   "source": [
    "df_count = count\n",
    "df_count = df_count"
   ]
  },
  {
   "cell_type": "code",
   "execution_count": 181,
   "metadata": {},
   "outputs": [],
   "source": [
    "df_count = pd.DataFrame(df_count)"
   ]
  },
  {
   "cell_type": "code",
   "execution_count": 182,
   "metadata": {},
   "outputs": [],
   "source": [
    "df_count.columns=['x','y']"
   ]
  },
  {
   "cell_type": "code",
   "execution_count": 183,
   "metadata": {},
   "outputs": [
    {
     "data": {
      "text/html": [
       "<div>\n",
       "<style scoped>\n",
       "    .dataframe tbody tr th:only-of-type {\n",
       "        vertical-align: middle;\n",
       "    }\n",
       "\n",
       "    .dataframe tbody tr th {\n",
       "        vertical-align: top;\n",
       "    }\n",
       "\n",
       "    .dataframe thead th {\n",
       "        text-align: right;\n",
       "    }\n",
       "</style>\n",
       "<table border=\"1\" class=\"dataframe\">\n",
       "  <thead>\n",
       "    <tr style=\"text-align: right;\">\n",
       "      <th></th>\n",
       "      <th>x</th>\n",
       "      <th>y</th>\n",
       "    </tr>\n",
       "  </thead>\n",
       "  <tbody>\n",
       "    <tr>\n",
       "      <th>0</th>\n",
       "      <td>1</td>\n",
       "      <td>60789</td>\n",
       "    </tr>\n",
       "    <tr>\n",
       "      <th>1</th>\n",
       "      <td>2</td>\n",
       "      <td>14602</td>\n",
       "    </tr>\n",
       "    <tr>\n",
       "      <th>2</th>\n",
       "      <td>3</td>\n",
       "      <td>7814</td>\n",
       "    </tr>\n",
       "    <tr>\n",
       "      <th>3</th>\n",
       "      <td>4</td>\n",
       "      <td>3865</td>\n",
       "    </tr>\n",
       "    <tr>\n",
       "      <th>4</th>\n",
       "      <td>0</td>\n",
       "      <td>2957</td>\n",
       "    </tr>\n",
       "    <tr>\n",
       "      <th>...</th>\n",
       "      <td>...</td>\n",
       "      <td>...</td>\n",
       "    </tr>\n",
       "    <tr>\n",
       "      <th>235</th>\n",
       "      <td>177</td>\n",
       "      <td>1</td>\n",
       "    </tr>\n",
       "    <tr>\n",
       "      <th>236</th>\n",
       "      <td>102</td>\n",
       "      <td>1</td>\n",
       "    </tr>\n",
       "    <tr>\n",
       "      <th>237</th>\n",
       "      <td>212</td>\n",
       "      <td>1</td>\n",
       "    </tr>\n",
       "    <tr>\n",
       "      <th>238</th>\n",
       "      <td>302</td>\n",
       "      <td>1</td>\n",
       "    </tr>\n",
       "    <tr>\n",
       "      <th>239</th>\n",
       "      <td>125</td>\n",
       "      <td>1</td>\n",
       "    </tr>\n",
       "  </tbody>\n",
       "</table>\n",
       "<p>240 rows × 2 columns</p>\n",
       "</div>"
      ],
      "text/plain": [
       "       x      y\n",
       "0      1  60789\n",
       "1      2  14602\n",
       "2      3   7814\n",
       "3      4   3865\n",
       "4      0   2957\n",
       "..   ...    ...\n",
       "235  177      1\n",
       "236  102      1\n",
       "237  212      1\n",
       "238  302      1\n",
       "239  125      1\n",
       "\n",
       "[240 rows x 2 columns]"
      ]
     },
     "execution_count": 183,
     "metadata": {},
     "output_type": "execute_result"
    }
   ],
   "source": [
    "df_count"
   ]
  },
  {
   "cell_type": "code",
   "execution_count": 406,
   "metadata": {},
   "outputs": [],
   "source": [
    "df_count_adjusted=df_count[df_count.y>10]"
   ]
  },
  {
   "cell_type": "code",
   "execution_count": 407,
   "metadata": {},
   "outputs": [],
   "source": [
    "df_count_adjusted = df_count_adjusted.sort_values('x',\n",
    "                                     ascending=True)"
   ]
  },
  {
   "cell_type": "code",
   "execution_count": 408,
   "metadata": {},
   "outputs": [],
   "source": [
    "df_count_adjusted = df_count_adjusted.reset_index()"
   ]
  },
  {
   "cell_type": "code",
   "execution_count": 409,
   "metadata": {},
   "outputs": [],
   "source": [
    "# reset plot settings and colours to default\n",
    "#sns.reset_orig()\n",
    "\n",
    "max_value = df_count_adjusted['x'][len(df_count_adjusted)-1]\n",
    "min_value = df_count_adjusted['x'][0] \n",
    "number_of_steps = 5\n",
    "l = [1]"
   ]
  },
  {
   "cell_type": "code",
   "execution_count": 413,
   "metadata": {},
   "outputs": [
    {
     "data": {
      "image/png": "[encoded data removed]",
      "text/plain": [
       "<Figure size 432x288 with 1 Axes>"
      ]
     },
     "metadata": {
      "needs_background": "light"
     },
     "output_type": "display_data"
    }
   ],
   "source": [
    "bar = sns.barplot(x=df_count_adjusted['x'],y=df_count_adjusted['y'], log=True, color='red')\n",
    "bar.set_xticklabels('')\n",
    "bar.tick_params(left=True, bottom=False)\n",
    "bar.set(xlabel='Comment Score', ylabel='Count')\n",
    "bar.set(title='Score Distribution of 103,334 $FB Related Reddit Comments \\n From /r/wallstreetbets, /r/investing, /r/stocks, /r/CryptoCurrency \\n Between 03/03/2019 - 20/03/2021')\n",
    "bar.set(xticks=[16], xticklabels=[1])\n",
    "\n",
    "plt.show(bar)"
   ]
  },
  {
   "cell_type": "code",
   "execution_count": 372,
   "metadata": {},
   "outputs": [
    {
     "data": {
      "text/html": [
       "<div>\n",
       "<style scoped>\n",
       "    .dataframe tbody tr th:only-of-type {\n",
       "        vertical-align: middle;\n",
       "    }\n",
       "\n",
       "    .dataframe tbody tr th {\n",
       "        vertical-align: top;\n",
       "    }\n",
       "\n",
       "    .dataframe thead th {\n",
       "        text-align: right;\n",
       "    }\n",
       "</style>\n",
       "<table border=\"1\" class=\"dataframe\">\n",
       "  <thead>\n",
       "    <tr style=\"text-align: right;\">\n",
       "      <th></th>\n",
       "      <th>index</th>\n",
       "      <th>x</th>\n",
       "      <th>y</th>\n",
       "    </tr>\n",
       "  </thead>\n",
       "  <tbody>\n",
       "    <tr>\n",
       "      <th>0</th>\n",
       "      <td>63</td>\n",
       "      <td>-15</td>\n",
       "      <td>11</td>\n",
       "    </tr>\n",
       "    <tr>\n",
       "      <th>1</th>\n",
       "      <td>64</td>\n",
       "      <td>-14</td>\n",
       "      <td>11</td>\n",
       "    </tr>\n",
       "    <tr>\n",
       "      <th>2</th>\n",
       "      <td>51</td>\n",
       "      <td>-13</td>\n",
       "      <td>18</td>\n",
       "    </tr>\n",
       "    <tr>\n",
       "      <th>3</th>\n",
       "      <td>45</td>\n",
       "      <td>-12</td>\n",
       "      <td>22</td>\n",
       "    </tr>\n",
       "    <tr>\n",
       "      <th>4</th>\n",
       "      <td>50</td>\n",
       "      <td>-11</td>\n",
       "      <td>19</td>\n",
       "    </tr>\n",
       "    <tr>\n",
       "      <th>...</th>\n",
       "      <td>...</td>\n",
       "      <td>...</td>\n",
       "      <td>...</td>\n",
       "    </tr>\n",
       "    <tr>\n",
       "      <th>62</th>\n",
       "      <td>59</td>\n",
       "      <td>47</td>\n",
       "      <td>12</td>\n",
       "    </tr>\n",
       "    <tr>\n",
       "      <th>63</th>\n",
       "      <td>55</td>\n",
       "      <td>48</td>\n",
       "      <td>15</td>\n",
       "    </tr>\n",
       "    <tr>\n",
       "      <th>64</th>\n",
       "      <td>62</td>\n",
       "      <td>51</td>\n",
       "      <td>11</td>\n",
       "    </tr>\n",
       "    <tr>\n",
       "      <th>65</th>\n",
       "      <td>65</td>\n",
       "      <td>54</td>\n",
       "      <td>11</td>\n",
       "    </tr>\n",
       "    <tr>\n",
       "      <th>66</th>\n",
       "      <td>56</td>\n",
       "      <td>57</td>\n",
       "      <td>14</td>\n",
       "    </tr>\n",
       "  </tbody>\n",
       "</table>\n",
       "<p>67 rows × 3 columns</p>\n",
       "</div>"
      ],
      "text/plain": [
       "    index   x   y\n",
       "0      63 -15  11\n",
       "1      64 -14  11\n",
       "2      51 -13  18\n",
       "3      45 -12  22\n",
       "4      50 -11  19\n",
       "..    ...  ..  ..\n",
       "62     59  47  12\n",
       "63     55  48  15\n",
       "64     62  51  11\n",
       "65     65  54  11\n",
       "66     56  57  14\n",
       "\n",
       "[67 rows x 3 columns]"
      ]
     },
     "execution_count": 372,
     "metadata": {},
     "output_type": "execute_result"
    }
   ],
   "source": [
    "df_count_adjusted"
   ]
  },
  {
   "cell_type": "code",
   "execution_count": 363,
   "metadata": {},
   "outputs": [
    {
     "data": {
      "text/plain": [
       "array([-15, -10,  -5,   0,   5,  10,  15,  20,  25,  30,  35,  40,  45,\n",
       "        50,  55])"
      ]
     },
     "execution_count": 363,
     "metadata": {},
     "output_type": "execute_result"
    }
   ],
   "source": [
    "l"
   ]
  },
  {
   "cell_type": "code",
   "execution_count": null,
   "metadata": {},
   "outputs": [],
   "source": [
    "df_filtered = df.body.str.contains('')"
   ]
  }
 ],
 "metadata": {
  "kernelspec": {
   "display_name": "Python 3",
   "language": "python",
   "name": "python3"
  },
  "language_info": {
   "codemirror_mode": {
    "name": "ipython",
    "version": 3
   },
   "file_extension": ".py",
   "mimetype": "text/x-python",
   "name": "python",
   "nbconvert_exporter": "python",
   "pygments_lexer": "ipython3",
   "version": "3.8.3"
  }
 },
 "nbformat": 4,
 "nbformat_minor": 4
}
