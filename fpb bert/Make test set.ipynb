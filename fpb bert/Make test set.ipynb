{
 "cells": [
  {
   "cell_type": "code",
   "execution_count": 350,
   "metadata": {},
   "outputs": [],
   "source": [
    "from collections import Counter"
   ]
  },
  {
   "cell_type": "code",
   "execution_count": 351,
   "metadata": {},
   "outputs": [],
   "source": [
    "import pandas as pd"
   ]
  },
  {
   "cell_type": "code",
   "execution_count": 352,
   "metadata": {},
   "outputs": [],
   "source": [
    "import sklearn"
   ]
  },
  {
   "cell_type": "code",
   "execution_count": 353,
   "metadata": {},
   "outputs": [],
   "source": [
    "df_fpb = pd.read_csv(\"./data/financial-phrase-bank-v1.0/Sentences_75Agree.txt\", sep='@',encoding='latin-1', names=['Text','Rating'])"
   ]
  },
  {
   "cell_type": "code",
   "execution_count": 354,
   "metadata": {},
   "outputs": [],
   "source": [
    "df_fb = pd.read_csv(\"./data/full-facebook-cleaned.csv\")"
   ]
  },
  {
   "cell_type": "code",
   "execution_count": 355,
   "metadata": {},
   "outputs": [],
   "source": [
    "df_gen = pd.read_csv(\"./data/full-gen-cleaned.csv\")"
   ]
  },
  {
   "cell_type": "code",
   "execution_count": 356,
   "metadata": {},
   "outputs": [],
   "source": [
    "df_fb = df_fb.loc[df_fb.sentiment.notnull()]"
   ]
  },
  {
   "cell_type": "code",
   "execution_count": 357,
   "metadata": {},
   "outputs": [
    {
     "data": {
      "text/plain": [
       "Counter({'Negative': 2442, 'Neutral': 2745, 'Positive': 2525})"
      ]
     },
     "execution_count": 357,
     "metadata": {},
     "output_type": "execute_result"
    }
   ],
   "source": [
    "Counter(df_fb.sentiment)"
   ]
  },
  {
   "cell_type": "code",
   "execution_count": 358,
   "metadata": {},
   "outputs": [],
   "source": [
    "df_gen = df_gen.loc[df_gen.sentiment.notnull()]"
   ]
  },
  {
   "cell_type": "code",
   "execution_count": 359,
   "metadata": {},
   "outputs": [
    {
     "data": {
      "text/plain": [
       "Counter({'Positive': 9216, 'Negative': 8889, 'Neutral': 10820})"
      ]
     },
     "execution_count": 359,
     "metadata": {},
     "output_type": "execute_result"
    }
   ],
   "source": [
    "Counter(df_gen.sentiment)"
   ]
  },
  {
   "cell_type": "code",
   "execution_count": 360,
   "metadata": {},
   "outputs": [
    {
     "data": {
      "text/plain": [
       "Counter({'neutral': 2146, 'positive': 887, 'negative': 420})"
      ]
     },
     "execution_count": 360,
     "metadata": {},
     "output_type": "execute_result"
    }
   ],
   "source": [
    "Counter(df_fpb.Rating)"
   ]
  },
  {
   "cell_type": "code",
   "execution_count": 361,
   "metadata": {},
   "outputs": [
    {
     "data": {
      "text/html": [
       "<div>\n",
       "<style scoped>\n",
       "    .dataframe tbody tr th:only-of-type {\n",
       "        vertical-align: middle;\n",
       "    }\n",
       "\n",
       "    .dataframe tbody tr th {\n",
       "        vertical-align: top;\n",
       "    }\n",
       "\n",
       "    .dataframe thead th {\n",
       "        text-align: right;\n",
       "    }\n",
       "</style>\n",
       "<table border=\"1\" class=\"dataframe\">\n",
       "  <thead>\n",
       "    <tr style=\"text-align: right;\">\n",
       "      <th></th>\n",
       "      <th>Text</th>\n",
       "      <th>Rating</th>\n",
       "    </tr>\n",
       "  </thead>\n",
       "  <tbody>\n",
       "    <tr>\n",
       "      <th>0</th>\n",
       "      <td>According to Gran , the company has no plans t...</td>\n",
       "      <td>neutral</td>\n",
       "    </tr>\n",
       "    <tr>\n",
       "      <th>1</th>\n",
       "      <td>With the new production plant the company woul...</td>\n",
       "      <td>positive</td>\n",
       "    </tr>\n",
       "    <tr>\n",
       "      <th>2</th>\n",
       "      <td>For the last quarter of 2010 , Componenta 's n...</td>\n",
       "      <td>positive</td>\n",
       "    </tr>\n",
       "    <tr>\n",
       "      <th>3</th>\n",
       "      <td>In the third quarter of 2010 , net sales incre...</td>\n",
       "      <td>positive</td>\n",
       "    </tr>\n",
       "    <tr>\n",
       "      <th>4</th>\n",
       "      <td>Operating profit rose to EUR 13.1 mn from EUR ...</td>\n",
       "      <td>positive</td>\n",
       "    </tr>\n",
       "    <tr>\n",
       "      <th>...</th>\n",
       "      <td>...</td>\n",
       "      <td>...</td>\n",
       "    </tr>\n",
       "    <tr>\n",
       "      <th>3448</th>\n",
       "      <td>Operating result for the 12-month period decre...</td>\n",
       "      <td>negative</td>\n",
       "    </tr>\n",
       "    <tr>\n",
       "      <th>3449</th>\n",
       "      <td>HELSINKI Thomson Financial - Shares in Cargote...</td>\n",
       "      <td>negative</td>\n",
       "    </tr>\n",
       "    <tr>\n",
       "      <th>3450</th>\n",
       "      <td>LONDON MarketWatch -- Share prices ended lower...</td>\n",
       "      <td>negative</td>\n",
       "    </tr>\n",
       "    <tr>\n",
       "      <th>3451</th>\n",
       "      <td>Operating profit fell to EUR 35.4 mn from EUR ...</td>\n",
       "      <td>negative</td>\n",
       "    </tr>\n",
       "    <tr>\n",
       "      <th>3452</th>\n",
       "      <td>Sales in Finland decreased by 10.5 % in Januar...</td>\n",
       "      <td>negative</td>\n",
       "    </tr>\n",
       "  </tbody>\n",
       "</table>\n",
       "<p>3453 rows × 2 columns</p>\n",
       "</div>"
      ],
      "text/plain": [
       "                                                   Text    Rating\n",
       "0     According to Gran , the company has no plans t...   neutral\n",
       "1     With the new production plant the company woul...  positive\n",
       "2     For the last quarter of 2010 , Componenta 's n...  positive\n",
       "3     In the third quarter of 2010 , net sales incre...  positive\n",
       "4     Operating profit rose to EUR 13.1 mn from EUR ...  positive\n",
       "...                                                 ...       ...\n",
       "3448  Operating result for the 12-month period decre...  negative\n",
       "3449  HELSINKI Thomson Financial - Shares in Cargote...  negative\n",
       "3450  LONDON MarketWatch -- Share prices ended lower...  negative\n",
       "3451  Operating profit fell to EUR 35.4 mn from EUR ...  negative\n",
       "3452  Sales in Finland decreased by 10.5 % in Januar...  negative\n",
       "\n",
       "[3453 rows x 2 columns]"
      ]
     },
     "execution_count": 361,
     "metadata": {},
     "output_type": "execute_result"
    }
   ],
   "source": [
    "df_fpb"
   ]
  },
  {
   "cell_type": "code",
   "execution_count": 362,
   "metadata": {},
   "outputs": [],
   "source": [
    "df_fb = sklearn.utils.shuffle(df_fb, random_state = 42)\n"
   ]
  },
  {
   "cell_type": "code",
   "execution_count": 363,
   "metadata": {},
   "outputs": [],
   "source": [
    "df_fb = df_fb[0:2000]"
   ]
  },
  {
   "cell_type": "code",
   "execution_count": 364,
   "metadata": {},
   "outputs": [],
   "source": [
    "df_fb['input'] = df_fb['title'] + ' - ' + df_fb['text']"
   ]
  },
  {
   "cell_type": "code",
   "execution_count": 365,
   "metadata": {},
   "outputs": [],
   "source": [
    "#pd.set_option('display.max_colwidth', None)"
   ]
  },
  {
   "cell_type": "code",
   "execution_count": 366,
   "metadata": {},
   "outputs": [
    {
     "data": {
      "text/html": [
       "<div>\n",
       "<style scoped>\n",
       "    .dataframe tbody tr th:only-of-type {\n",
       "        vertical-align: middle;\n",
       "    }\n",
       "\n",
       "    .dataframe tbody tr th {\n",
       "        vertical-align: top;\n",
       "    }\n",
       "\n",
       "    .dataframe thead th {\n",
       "        text-align: right;\n",
       "    }\n",
       "</style>\n",
       "<table border=\"1\" class=\"dataframe\">\n",
       "  <thead>\n",
       "    <tr style=\"text-align: right;\">\n",
       "      <th></th>\n",
       "      <th>Unnamed: 0</th>\n",
       "      <th>Unnamed: 0.1</th>\n",
       "      <th>news_url</th>\n",
       "      <th>image_url</th>\n",
       "      <th>title</th>\n",
       "      <th>text</th>\n",
       "      <th>source_name</th>\n",
       "      <th>date</th>\n",
       "      <th>topics</th>\n",
       "      <th>sentiment</th>\n",
       "      <th>type</th>\n",
       "      <th>tickers</th>\n",
       "      <th>text_new</th>\n",
       "      <th>input</th>\n",
       "    </tr>\n",
       "  </thead>\n",
       "  <tbody>\n",
       "    <tr>\n",
       "      <th>5313</th>\n",
       "      <td>5284.0</td>\n",
       "      <td>5284</td>\n",
       "      <td>https://www.reuters.com/article/us-facebook-se...</td>\n",
       "      <td>https://cdn.snapi.dev/images/v1/c/j/mw-gx419-f...</td>\n",
       "      <td>Facebook campus given all-clear after sarin scare</td>\n",
       "      <td>Facebook's  Silicon Valley campus received the...</td>\n",
       "      <td>Reuters</td>\n",
       "      <td>Tue, 02 Jul 2019 07:02:04 -0400</td>\n",
       "      <td>NaN</td>\n",
       "      <td>Neutral</td>\n",
       "      <td>Article</td>\n",
       "      <td>FB</td>\n",
       "      <td>Facebook's  Silicon Valley campus received the...</td>\n",
       "      <td>Facebook campus given all-clear after sarin sc...</td>\n",
       "    </tr>\n",
       "    <tr>\n",
       "      <th>6941</th>\n",
       "      <td>6908.0</td>\n",
       "      <td>6908</td>\n",
       "      <td>https://www.reuters.com/article/us-usa-stocks/...</td>\n",
       "      <td>https://cdn.snapi.dev/images/v1/4/b/fn2-1.jpg</td>\n",
       "      <td>Wall Street mixed after corporate earnings rep...</td>\n",
       "      <td>The S&amp;P 500 and Dow Jones indexes rose on Tues...</td>\n",
       "      <td>Reuters</td>\n",
       "      <td>Tue, 22 Oct 2019 12:24:47 -0400</td>\n",
       "      <td>earnings</td>\n",
       "      <td>Negative</td>\n",
       "      <td>Article</td>\n",
       "      <td>FB</td>\n",
       "      <td>The S&amp;P 500 and Dow Jones indexes rose on Tues...</td>\n",
       "      <td>Wall Street mixed after corporate earnings rep...</td>\n",
       "    </tr>\n",
       "    <tr>\n",
       "      <th>5044</th>\n",
       "      <td>5016.0</td>\n",
       "      <td>5016</td>\n",
       "      <td>https://www.cnn.com/2020/07/21/tech/facebook-l...</td>\n",
       "      <td>https://cdn.snapi.dev/images/v1/p/z/facebook.jpg</td>\n",
       "      <td>Facebook begins labeling, but not fact-checkin...</td>\n",
       "      <td>After President Donald Trump posted an unfound...</td>\n",
       "      <td>CNN Business</td>\n",
       "      <td>Tue, 21 Jul 2020 14:00:44 -0400</td>\n",
       "      <td>NaN</td>\n",
       "      <td>Neutral</td>\n",
       "      <td>Article</td>\n",
       "      <td>FB</td>\n",
       "      <td>After President Donald Trump posted an unfound...</td>\n",
       "      <td>Facebook begins labeling, but not fact-checkin...</td>\n",
       "    </tr>\n",
       "    <tr>\n",
       "      <th>2609</th>\n",
       "      <td>2594.0</td>\n",
       "      <td>2594</td>\n",
       "      <td>https://www.reuters.com/article/us-usa-trump-s...</td>\n",
       "      <td>https://cdn.snapi.dev/images/v1/x/l/xlc-2.jpg</td>\n",
       "      <td>Exclusive: Trump administration asks court to ...</td>\n",
       "      <td>The Trump administration has filed a motion as...</td>\n",
       "      <td>Reuters</td>\n",
       "      <td>Wed, 12 Aug 2020 19:33:00 -0400</td>\n",
       "      <td>NaN</td>\n",
       "      <td>Neutral</td>\n",
       "      <td>Article</td>\n",
       "      <td>FB,GOOG,GOOGL,TWTR</td>\n",
       "      <td>The Trump administration has filed a motion as...</td>\n",
       "      <td>Exclusive: Trump administration asks court to ...</td>\n",
       "    </tr>\n",
       "    <tr>\n",
       "      <th>4448</th>\n",
       "      <td>4421.0</td>\n",
       "      <td>4421</td>\n",
       "      <td>https://www.forbes.com/sites/greatspeculations...</td>\n",
       "      <td>https://cdn.snapi.dev/images/v1/f/a/facebooks-...</td>\n",
       "      <td>Facebook's Stock Falls 6% In A Week, Is It An ...</td>\n",
       "      <td>Facebook's stock fell almost -6.1% in the last...</td>\n",
       "      <td>Forbes</td>\n",
       "      <td>Wed, 20 Jan 2021 09:00:00 -0500</td>\n",
       "      <td>paylimitwall</td>\n",
       "      <td>Negative</td>\n",
       "      <td>Article</td>\n",
       "      <td>FB</td>\n",
       "      <td>Facebook's stock fell almost -6.1% in the last...</td>\n",
       "      <td>Facebook's Stock Falls 6% In A Week, Is It An ...</td>\n",
       "    </tr>\n",
       "    <tr>\n",
       "      <th>...</th>\n",
       "      <td>...</td>\n",
       "      <td>...</td>\n",
       "      <td>...</td>\n",
       "      <td>...</td>\n",
       "      <td>...</td>\n",
       "      <td>...</td>\n",
       "      <td>...</td>\n",
       "      <td>...</td>\n",
       "      <td>...</td>\n",
       "      <td>...</td>\n",
       "      <td>...</td>\n",
       "      <td>...</td>\n",
       "      <td>...</td>\n",
       "      <td>...</td>\n",
       "    </tr>\n",
       "    <tr>\n",
       "      <th>393</th>\n",
       "      <td>390.0</td>\n",
       "      <td>390</td>\n",
       "      <td>https://www.fool.com/investing/2020/04/20/this...</td>\n",
       "      <td>https://cdn.snapi.dev/images/v1/r/k/urlhttps3a...</td>\n",
       "      <td>This Is Instagram's Opportunity to Make IGTV a...</td>\n",
       "      <td>The long-form video platform has struggled to ...</td>\n",
       "      <td>The Motley Fool</td>\n",
       "      <td>Mon, 20 Apr 2020 11:04:42 -0400</td>\n",
       "      <td>NaN</td>\n",
       "      <td>Positive</td>\n",
       "      <td>Article</td>\n",
       "      <td>FB</td>\n",
       "      <td>The long-form video platform has struggled to ...</td>\n",
       "      <td>This Is Instagram's Opportunity to Make IGTV a...</td>\n",
       "    </tr>\n",
       "    <tr>\n",
       "      <th>6491</th>\n",
       "      <td>6460.0</td>\n",
       "      <td>6460</td>\n",
       "      <td>https://www.youtube.com/watch?v=KAguT1GqMhg</td>\n",
       "      <td>https://cdn.snapi.dev/images/v1/6/n/zuckerberg...</td>\n",
       "      <td>Zuckerberg Says Won't Launch Libra Without Reg...</td>\n",
       "      <td>Facebook CEO says that Libra won't be launched...</td>\n",
       "      <td>Bloomberg Markets and Finance</td>\n",
       "      <td>Wed, 23 Oct 2019 15:17:56 -0400</td>\n",
       "      <td>CEO</td>\n",
       "      <td>Positive</td>\n",
       "      <td>Video</td>\n",
       "      <td>FB</td>\n",
       "      <td>Facebook CEO says that Libra won't be launched...</td>\n",
       "      <td>Zuckerberg Says Won't Launch Libra Without Reg...</td>\n",
       "    </tr>\n",
       "    <tr>\n",
       "      <th>1042</th>\n",
       "      <td>1037.0</td>\n",
       "      <td>1037</td>\n",
       "      <td>https://www.youtube.com/watch?v=m3LbC9j-oQA</td>\n",
       "      <td>https://cdn.snapi.dev/images/v1/a/o/facebook-t...</td>\n",
       "      <td>Facebook takes down Trump ads for fake census ads</td>\n",
       "      <td>Facebook announced on Thursday that it was rem...</td>\n",
       "      <td>Yahoo Finance</td>\n",
       "      <td>Fri, 06 Mar 2020 15:11:40 -0500</td>\n",
       "      <td>NaN</td>\n",
       "      <td>Neutral</td>\n",
       "      <td>Video</td>\n",
       "      <td>FB</td>\n",
       "      <td>Facebook announced on Thursday that it was rem...</td>\n",
       "      <td>Facebook takes down Trump ads for fake census ...</td>\n",
       "    </tr>\n",
       "    <tr>\n",
       "      <th>5017</th>\n",
       "      <td>4989.0</td>\n",
       "      <td>4989</td>\n",
       "      <td>https://www.fool.com/investing/2019/07/20/can-...</td>\n",
       "      <td>https://cdn.snapi.dev/images/v1/0/y/m02d201905...</td>\n",
       "      <td>Can Facebook Get Past the Antitrust Debacle Wh...</td>\n",
       "      <td>After recent reports of a record-setting fine,...</td>\n",
       "      <td>The Motley Fool</td>\n",
       "      <td>Sat, 20 Jul 2019 12:00:00 -0400</td>\n",
       "      <td>earnings</td>\n",
       "      <td>Positive</td>\n",
       "      <td>Article</td>\n",
       "      <td>FB</td>\n",
       "      <td>After recent reports of a record-setting fine,...</td>\n",
       "      <td>Can Facebook Get Past the Antitrust Debacle Wh...</td>\n",
       "    </tr>\n",
       "    <tr>\n",
       "      <th>7240</th>\n",
       "      <td>7206.0</td>\n",
       "      <td>7206</td>\n",
       "      <td>https://investorplace.com/2020/05/its-not-too-...</td>\n",
       "      <td>https://cdn.snapi.dev/images/v1/p/f/fb4.jpg</td>\n",
       "      <td>It’s Not Too Late to Buy Facebook Stock</td>\n",
       "      <td>FB stock is rated as a buy, after recovery fro...</td>\n",
       "      <td>InvestorPlace</td>\n",
       "      <td>Wed, 13 May 2020 06:30:57 -0400</td>\n",
       "      <td>NaN</td>\n",
       "      <td>Positive</td>\n",
       "      <td>Article</td>\n",
       "      <td>FB</td>\n",
       "      <td>FB stock is rated as a buy, after recovery fro...</td>\n",
       "      <td>It’s Not Too Late to Buy Facebook Stock - FB s...</td>\n",
       "    </tr>\n",
       "  </tbody>\n",
       "</table>\n",
       "<p>2000 rows × 14 columns</p>\n",
       "</div>"
      ],
      "text/plain": [
       "      Unnamed: 0 Unnamed: 0.1  \\\n",
       "5313      5284.0         5284   \n",
       "6941      6908.0         6908   \n",
       "5044      5016.0         5016   \n",
       "2609      2594.0         2594   \n",
       "4448      4421.0         4421   \n",
       "...          ...          ...   \n",
       "393        390.0          390   \n",
       "6491      6460.0         6460   \n",
       "1042      1037.0         1037   \n",
       "5017      4989.0         4989   \n",
       "7240      7206.0         7206   \n",
       "\n",
       "                                               news_url  \\\n",
       "5313  https://www.reuters.com/article/us-facebook-se...   \n",
       "6941  https://www.reuters.com/article/us-usa-stocks/...   \n",
       "5044  https://www.cnn.com/2020/07/21/tech/facebook-l...   \n",
       "2609  https://www.reuters.com/article/us-usa-trump-s...   \n",
       "4448  https://www.forbes.com/sites/greatspeculations...   \n",
       "...                                                 ...   \n",
       "393   https://www.fool.com/investing/2020/04/20/this...   \n",
       "6491        https://www.youtube.com/watch?v=KAguT1GqMhg   \n",
       "1042        https://www.youtube.com/watch?v=m3LbC9j-oQA   \n",
       "5017  https://www.fool.com/investing/2019/07/20/can-...   \n",
       "7240  https://investorplace.com/2020/05/its-not-too-...   \n",
       "\n",
       "                                              image_url  \\\n",
       "5313  https://cdn.snapi.dev/images/v1/c/j/mw-gx419-f...   \n",
       "6941      https://cdn.snapi.dev/images/v1/4/b/fn2-1.jpg   \n",
       "5044   https://cdn.snapi.dev/images/v1/p/z/facebook.jpg   \n",
       "2609      https://cdn.snapi.dev/images/v1/x/l/xlc-2.jpg   \n",
       "4448  https://cdn.snapi.dev/images/v1/f/a/facebooks-...   \n",
       "...                                                 ...   \n",
       "393   https://cdn.snapi.dev/images/v1/r/k/urlhttps3a...   \n",
       "6491  https://cdn.snapi.dev/images/v1/6/n/zuckerberg...   \n",
       "1042  https://cdn.snapi.dev/images/v1/a/o/facebook-t...   \n",
       "5017  https://cdn.snapi.dev/images/v1/0/y/m02d201905...   \n",
       "7240        https://cdn.snapi.dev/images/v1/p/f/fb4.jpg   \n",
       "\n",
       "                                                  title  \\\n",
       "5313  Facebook campus given all-clear after sarin scare   \n",
       "6941  Wall Street mixed after corporate earnings rep...   \n",
       "5044  Facebook begins labeling, but not fact-checkin...   \n",
       "2609  Exclusive: Trump administration asks court to ...   \n",
       "4448  Facebook's Stock Falls 6% In A Week, Is It An ...   \n",
       "...                                                 ...   \n",
       "393   This Is Instagram's Opportunity to Make IGTV a...   \n",
       "6491  Zuckerberg Says Won't Launch Libra Without Reg...   \n",
       "1042  Facebook takes down Trump ads for fake census ads   \n",
       "5017  Can Facebook Get Past the Antitrust Debacle Wh...   \n",
       "7240            It’s Not Too Late to Buy Facebook Stock   \n",
       "\n",
       "                                                   text  \\\n",
       "5313  Facebook's  Silicon Valley campus received the...   \n",
       "6941  The S&P 500 and Dow Jones indexes rose on Tues...   \n",
       "5044  After President Donald Trump posted an unfound...   \n",
       "2609  The Trump administration has filed a motion as...   \n",
       "4448  Facebook's stock fell almost -6.1% in the last...   \n",
       "...                                                 ...   \n",
       "393   The long-form video platform has struggled to ...   \n",
       "6491  Facebook CEO says that Libra won't be launched...   \n",
       "1042  Facebook announced on Thursday that it was rem...   \n",
       "5017  After recent reports of a record-setting fine,...   \n",
       "7240  FB stock is rated as a buy, after recovery fro...   \n",
       "\n",
       "                        source_name                             date  \\\n",
       "5313                        Reuters  Tue, 02 Jul 2019 07:02:04 -0400   \n",
       "6941                        Reuters  Tue, 22 Oct 2019 12:24:47 -0400   \n",
       "5044                   CNN Business  Tue, 21 Jul 2020 14:00:44 -0400   \n",
       "2609                        Reuters  Wed, 12 Aug 2020 19:33:00 -0400   \n",
       "4448                         Forbes  Wed, 20 Jan 2021 09:00:00 -0500   \n",
       "...                             ...                              ...   \n",
       "393                 The Motley Fool  Mon, 20 Apr 2020 11:04:42 -0400   \n",
       "6491  Bloomberg Markets and Finance  Wed, 23 Oct 2019 15:17:56 -0400   \n",
       "1042                  Yahoo Finance  Fri, 06 Mar 2020 15:11:40 -0500   \n",
       "5017                The Motley Fool  Sat, 20 Jul 2019 12:00:00 -0400   \n",
       "7240                  InvestorPlace  Wed, 13 May 2020 06:30:57 -0400   \n",
       "\n",
       "            topics sentiment     type             tickers  \\\n",
       "5313           NaN   Neutral  Article                  FB   \n",
       "6941      earnings  Negative  Article                  FB   \n",
       "5044           NaN   Neutral  Article                  FB   \n",
       "2609           NaN   Neutral  Article  FB,GOOG,GOOGL,TWTR   \n",
       "4448  paylimitwall  Negative  Article                  FB   \n",
       "...            ...       ...      ...                 ...   \n",
       "393            NaN  Positive  Article                  FB   \n",
       "6491           CEO  Positive    Video                  FB   \n",
       "1042           NaN   Neutral    Video                  FB   \n",
       "5017      earnings  Positive  Article                  FB   \n",
       "7240           NaN  Positive  Article                  FB   \n",
       "\n",
       "                                               text_new  \\\n",
       "5313  Facebook's  Silicon Valley campus received the...   \n",
       "6941  The S&P 500 and Dow Jones indexes rose on Tues...   \n",
       "5044  After President Donald Trump posted an unfound...   \n",
       "2609  The Trump administration has filed a motion as...   \n",
       "4448  Facebook's stock fell almost -6.1% in the last...   \n",
       "...                                                 ...   \n",
       "393   The long-form video platform has struggled to ...   \n",
       "6491  Facebook CEO says that Libra won't be launched...   \n",
       "1042  Facebook announced on Thursday that it was rem...   \n",
       "5017  After recent reports of a record-setting fine,...   \n",
       "7240  FB stock is rated as a buy, after recovery fro...   \n",
       "\n",
       "                                                  input  \n",
       "5313  Facebook campus given all-clear after sarin sc...  \n",
       "6941  Wall Street mixed after corporate earnings rep...  \n",
       "5044  Facebook begins labeling, but not fact-checkin...  \n",
       "2609  Exclusive: Trump administration asks court to ...  \n",
       "4448  Facebook's Stock Falls 6% In A Week, Is It An ...  \n",
       "...                                                 ...  \n",
       "393   This Is Instagram's Opportunity to Make IGTV a...  \n",
       "6491  Zuckerberg Says Won't Launch Libra Without Reg...  \n",
       "1042  Facebook takes down Trump ads for fake census ...  \n",
       "5017  Can Facebook Get Past the Antitrust Debacle Wh...  \n",
       "7240  It’s Not Too Late to Buy Facebook Stock - FB s...  \n",
       "\n",
       "[2000 rows x 14 columns]"
      ]
     },
     "execution_count": 366,
     "metadata": {},
     "output_type": "execute_result"
    }
   ],
   "source": [
    "df_fb"
   ]
  },
  {
   "cell_type": "code",
   "execution_count": 367,
   "metadata": {},
   "outputs": [],
   "source": [
    "df_gen = sklearn.utils.shuffle(df_gen, random_state = 42)"
   ]
  },
  {
   "cell_type": "code",
   "execution_count": 368,
   "metadata": {},
   "outputs": [
    {
     "data": {
      "text/plain": [
       "28925"
      ]
     },
     "execution_count": 368,
     "metadata": {},
     "output_type": "execute_result"
    }
   ],
   "source": [
    "len(df_gen)"
   ]
  },
  {
   "cell_type": "code",
   "execution_count": 369,
   "metadata": {},
   "outputs": [
    {
     "data": {
      "text/plain": [
       "2000"
      ]
     },
     "execution_count": 369,
     "metadata": {},
     "output_type": "execute_result"
    }
   ],
   "source": [
    "len(df_fb)"
   ]
  },
  {
   "cell_type": "code",
   "execution_count": 370,
   "metadata": {},
   "outputs": [],
   "source": [
    "df_gen = df_gen[0:4000]"
   ]
  },
  {
   "cell_type": "code",
   "execution_count": 371,
   "metadata": {},
   "outputs": [],
   "source": [
    "df_gen['input'] = df_gen['title'] + ' - ' + df_gen['text']"
   ]
  },
  {
   "cell_type": "code",
   "execution_count": 372,
   "metadata": {},
   "outputs": [
    {
     "data": {
      "text/html": [
       "<div>\n",
       "<style scoped>\n",
       "    .dataframe tbody tr th:only-of-type {\n",
       "        vertical-align: middle;\n",
       "    }\n",
       "\n",
       "    .dataframe tbody tr th {\n",
       "        vertical-align: top;\n",
       "    }\n",
       "\n",
       "    .dataframe thead th {\n",
       "        text-align: right;\n",
       "    }\n",
       "</style>\n",
       "<table border=\"1\" class=\"dataframe\">\n",
       "  <thead>\n",
       "    <tr style=\"text-align: right;\">\n",
       "      <th></th>\n",
       "      <th>Unnamed: 0</th>\n",
       "      <th>Unnamed: 0.1</th>\n",
       "      <th>news_url</th>\n",
       "      <th>image_url</th>\n",
       "      <th>title</th>\n",
       "      <th>text</th>\n",
       "      <th>source_name</th>\n",
       "      <th>date</th>\n",
       "      <th>topics</th>\n",
       "      <th>sentiment</th>\n",
       "      <th>type</th>\n",
       "      <th>input</th>\n",
       "    </tr>\n",
       "  </thead>\n",
       "  <tbody>\n",
       "    <tr>\n",
       "      <th>19900</th>\n",
       "      <td>19877.0</td>\n",
       "      <td>19877</td>\n",
       "      <td>https://seekingalpha.com/article/4400892-are-i...</td>\n",
       "      <td>https://cdn.snapi.dev/images/v1/a/l/look-outsi...</td>\n",
       "      <td>There Are Some Itchy Selling Triggers Out Ther...</td>\n",
       "      <td>There Are Some Itchy Selling Triggers Out Ther...</td>\n",
       "      <td>Seeking Alpha</td>\n",
       "      <td>Mon, 25 Jan 2021 19:13:25 -0500</td>\n",
       "      <td>tanalysis,paylimitwall</td>\n",
       "      <td>Negative</td>\n",
       "      <td>Article</td>\n",
       "      <td>There Are Some Itchy Selling Triggers Out Ther...</td>\n",
       "    </tr>\n",
       "    <tr>\n",
       "      <th>14335</th>\n",
       "      <td>14317.0</td>\n",
       "      <td>14317</td>\n",
       "      <td>https://seekingalpha.com/article/4371282-senti...</td>\n",
       "      <td>https://cdn.snapi.dev/images/v1/w/a/wall-stree...</td>\n",
       "      <td>Sentiment Is Shifting In The Markets: Thornton</td>\n",
       "      <td>Markets have been frothy as sentiment continue...</td>\n",
       "      <td>Seeking Alpha</td>\n",
       "      <td>Thu, 27 Aug 2020 22:54:04 -0400</td>\n",
       "      <td>NaN</td>\n",
       "      <td>Negative</td>\n",
       "      <td>Article</td>\n",
       "      <td>Sentiment Is Shifting In The Markets: Thornton...</td>\n",
       "    </tr>\n",
       "    <tr>\n",
       "      <th>4940</th>\n",
       "      <td>4936.0</td>\n",
       "      <td>4936</td>\n",
       "      <td>https://www.reuters.com/article/us-global-mark...</td>\n",
       "      <td>https://cdn.snapi.dev/images/v1/u/r/urlhttps3a...</td>\n",
       "      <td>Stocks crumble as more nations shut for busine...</td>\n",
       "      <td>Asian shares sank on Monday as a rising tide o...</td>\n",
       "      <td>Reuters</td>\n",
       "      <td>Sun, 22 Mar 2020 23:28:17 -0400</td>\n",
       "      <td>NaN</td>\n",
       "      <td>Negative</td>\n",
       "      <td>Article</td>\n",
       "      <td>Stocks crumble as more nations shut for busine...</td>\n",
       "    </tr>\n",
       "    <tr>\n",
       "      <th>8060</th>\n",
       "      <td>8051.0</td>\n",
       "      <td>8051</td>\n",
       "      <td>https://www.gurufocus.com/news/1232987/howard-...</td>\n",
       "      <td>https://cdn.snapi.dev/images/v1/0/4/stock-exch...</td>\n",
       "      <td>Howard Marks: It's Hard to Find Good Risk/Retu...</td>\n",
       "      <td>In investing, it's not enough to just buy busi...</td>\n",
       "      <td>GuruFocus</td>\n",
       "      <td>Mon, 14 Sep 2020 15:13:25 -0400</td>\n",
       "      <td>NaN</td>\n",
       "      <td>Neutral</td>\n",
       "      <td>Article</td>\n",
       "      <td>Howard Marks: It's Hard to Find Good Risk/Retu...</td>\n",
       "    </tr>\n",
       "    <tr>\n",
       "      <th>1602</th>\n",
       "      <td>1600.0</td>\n",
       "      <td>1600</td>\n",
       "      <td>https://www.youtube.com/watch?v=MgfaYMrNPog</td>\n",
       "      <td>https://cdn.snapi.dev/images/v1/m/q-5/people-t...</td>\n",
       "      <td>People too negative about odds of recession, s...</td>\n",
       "      <td>Charlie Bobrinskoy of Ariel Investments and St...</td>\n",
       "      <td>CNBC Television</td>\n",
       "      <td>Thu, 13 Jun 2019 16:36:22 -0400</td>\n",
       "      <td>NaN</td>\n",
       "      <td>Negative</td>\n",
       "      <td>Video</td>\n",
       "      <td>People too negative about odds of recession, s...</td>\n",
       "    </tr>\n",
       "    <tr>\n",
       "      <th>...</th>\n",
       "      <td>...</td>\n",
       "      <td>...</td>\n",
       "      <td>...</td>\n",
       "      <td>...</td>\n",
       "      <td>...</td>\n",
       "      <td>...</td>\n",
       "      <td>...</td>\n",
       "      <td>...</td>\n",
       "      <td>...</td>\n",
       "      <td>...</td>\n",
       "      <td>...</td>\n",
       "      <td>...</td>\n",
       "    </tr>\n",
       "    <tr>\n",
       "      <th>259</th>\n",
       "      <td>259.0</td>\n",
       "      <td>259</td>\n",
       "      <td>https://www.cnbc.com/2020/10/15/cramer-calls-p...</td>\n",
       "      <td>https://cdn.snapi.dev/images/v1/1/0/106553485-...</td>\n",
       "      <td>Jim Cramer tells traders to be ready for a 'bu...</td>\n",
       "      <td>\"This morning's Europe-inspired sell-off turne...</td>\n",
       "      <td>CNBC</td>\n",
       "      <td>Thu, 15 Oct 2020 18:43:36 -0400</td>\n",
       "      <td>cramer</td>\n",
       "      <td>Positive</td>\n",
       "      <td>Article</td>\n",
       "      <td>Jim Cramer tells traders to be ready for a 'bu...</td>\n",
       "    </tr>\n",
       "    <tr>\n",
       "      <th>26981</th>\n",
       "      <td>26948.0</td>\n",
       "      <td>26948</td>\n",
       "      <td>https://www.youtube.com/watch?v=YL4vtEUpFzw</td>\n",
       "      <td>https://cdn.snapi.dev/images/v1/m/q-4/technica...</td>\n",
       "      <td>Technical Analysis: How To Find Top Stocks Sho...</td>\n",
       "      <td>When market conditions warrant caution, invest...</td>\n",
       "      <td>Investors Business Daily</td>\n",
       "      <td>Tue, 14 May 2019 15:03:56 -0400</td>\n",
       "      <td>tanalysis</td>\n",
       "      <td>Positive</td>\n",
       "      <td>Video</td>\n",
       "      <td>Technical Analysis: How To Find Top Stocks Sho...</td>\n",
       "    </tr>\n",
       "    <tr>\n",
       "      <th>27007</th>\n",
       "      <td>26974.0</td>\n",
       "      <td>26974</td>\n",
       "      <td>https://www.youtube.com/watch?v=ImLLh66SakY</td>\n",
       "      <td>https://cdn.snapi.dev/images/v1/m/q-4/pimcos-s...</td>\n",
       "      <td>Pimco's Sundstrom Says Recession Is the Big Wo...</td>\n",
       "      <td>May.14 -- Geraldine Sundstrom, head of asset a...</td>\n",
       "      <td>Bloomberg Markets and Finance</td>\n",
       "      <td>Tue, 14 May 2019 09:48:32 -0400</td>\n",
       "      <td>NaN</td>\n",
       "      <td>Neutral</td>\n",
       "      <td>Video</td>\n",
       "      <td>Pimco's Sundstrom Says Recession Is the Big Wo...</td>\n",
       "    </tr>\n",
       "    <tr>\n",
       "      <th>16467</th>\n",
       "      <td>16448.0</td>\n",
       "      <td>16448</td>\n",
       "      <td>https://www.cnbc.com/2019/12/09/what-happened-...</td>\n",
       "      <td>https://cdn.snapi.dev/images/v1/9/y/m02d201912...</td>\n",
       "      <td>Here's what happened to the stock market on Mo...</td>\n",
       "      <td>Monday's slight decline snapped a three-day wi...</td>\n",
       "      <td>CNBC</td>\n",
       "      <td>Mon, 09 Dec 2019 16:08:00 -0500</td>\n",
       "      <td>NaN</td>\n",
       "      <td>Negative</td>\n",
       "      <td>Article</td>\n",
       "      <td>Here's what happened to the stock market on Mo...</td>\n",
       "    </tr>\n",
       "    <tr>\n",
       "      <th>26243</th>\n",
       "      <td>26213.0</td>\n",
       "      <td>26213</td>\n",
       "      <td>https://www.forbes.com/sites/garthfriesen/2019...</td>\n",
       "      <td>https://cdn.snapi.dev/images/v1/w/8/0x600.jpg</td>\n",
       "      <td>Is Trump Right About The Fed?</td>\n",
       "      <td>No matter your political view, you have to adm...</td>\n",
       "      <td>Forbes</td>\n",
       "      <td>Thu, 22 Aug 2019 14:27:40 -0400</td>\n",
       "      <td>NaN</td>\n",
       "      <td>Neutral</td>\n",
       "      <td>Article</td>\n",
       "      <td>Is Trump Right About The Fed? - No matter your...</td>\n",
       "    </tr>\n",
       "  </tbody>\n",
       "</table>\n",
       "<p>4000 rows × 12 columns</p>\n",
       "</div>"
      ],
      "text/plain": [
       "       Unnamed: 0 Unnamed: 0.1  \\\n",
       "19900     19877.0        19877   \n",
       "14335     14317.0        14317   \n",
       "4940       4936.0         4936   \n",
       "8060       8051.0         8051   \n",
       "1602       1600.0         1600   \n",
       "...           ...          ...   \n",
       "259         259.0          259   \n",
       "26981     26948.0        26948   \n",
       "27007     26974.0        26974   \n",
       "16467     16448.0        16448   \n",
       "26243     26213.0        26213   \n",
       "\n",
       "                                                news_url  \\\n",
       "19900  https://seekingalpha.com/article/4400892-are-i...   \n",
       "14335  https://seekingalpha.com/article/4371282-senti...   \n",
       "4940   https://www.reuters.com/article/us-global-mark...   \n",
       "8060   https://www.gurufocus.com/news/1232987/howard-...   \n",
       "1602         https://www.youtube.com/watch?v=MgfaYMrNPog   \n",
       "...                                                  ...   \n",
       "259    https://www.cnbc.com/2020/10/15/cramer-calls-p...   \n",
       "26981        https://www.youtube.com/watch?v=YL4vtEUpFzw   \n",
       "27007        https://www.youtube.com/watch?v=ImLLh66SakY   \n",
       "16467  https://www.cnbc.com/2019/12/09/what-happened-...   \n",
       "26243  https://www.forbes.com/sites/garthfriesen/2019...   \n",
       "\n",
       "                                               image_url  \\\n",
       "19900  https://cdn.snapi.dev/images/v1/a/l/look-outsi...   \n",
       "14335  https://cdn.snapi.dev/images/v1/w/a/wall-stree...   \n",
       "4940   https://cdn.snapi.dev/images/v1/u/r/urlhttps3a...   \n",
       "8060   https://cdn.snapi.dev/images/v1/0/4/stock-exch...   \n",
       "1602   https://cdn.snapi.dev/images/v1/m/q-5/people-t...   \n",
       "...                                                  ...   \n",
       "259    https://cdn.snapi.dev/images/v1/1/0/106553485-...   \n",
       "26981  https://cdn.snapi.dev/images/v1/m/q-4/technica...   \n",
       "27007  https://cdn.snapi.dev/images/v1/m/q-4/pimcos-s...   \n",
       "16467  https://cdn.snapi.dev/images/v1/9/y/m02d201912...   \n",
       "26243      https://cdn.snapi.dev/images/v1/w/8/0x600.jpg   \n",
       "\n",
       "                                                   title  \\\n",
       "19900  There Are Some Itchy Selling Triggers Out Ther...   \n",
       "14335     Sentiment Is Shifting In The Markets: Thornton   \n",
       "4940   Stocks crumble as more nations shut for busine...   \n",
       "8060   Howard Marks: It's Hard to Find Good Risk/Retu...   \n",
       "1602   People too negative about odds of recession, s...   \n",
       "...                                                  ...   \n",
       "259    Jim Cramer tells traders to be ready for a 'bu...   \n",
       "26981  Technical Analysis: How To Find Top Stocks Sho...   \n",
       "27007  Pimco's Sundstrom Says Recession Is the Big Wo...   \n",
       "16467  Here's what happened to the stock market on Mo...   \n",
       "26243                      Is Trump Right About The Fed?   \n",
       "\n",
       "                                                    text  \\\n",
       "19900  There Are Some Itchy Selling Triggers Out Ther...   \n",
       "14335  Markets have been frothy as sentiment continue...   \n",
       "4940   Asian shares sank on Monday as a rising tide o...   \n",
       "8060   In investing, it's not enough to just buy busi...   \n",
       "1602   Charlie Bobrinskoy of Ariel Investments and St...   \n",
       "...                                                  ...   \n",
       "259    \"This morning's Europe-inspired sell-off turne...   \n",
       "26981  When market conditions warrant caution, invest...   \n",
       "27007  May.14 -- Geraldine Sundstrom, head of asset a...   \n",
       "16467  Monday's slight decline snapped a three-day wi...   \n",
       "26243  No matter your political view, you have to adm...   \n",
       "\n",
       "                         source_name                             date  \\\n",
       "19900                  Seeking Alpha  Mon, 25 Jan 2021 19:13:25 -0500   \n",
       "14335                  Seeking Alpha  Thu, 27 Aug 2020 22:54:04 -0400   \n",
       "4940                         Reuters  Sun, 22 Mar 2020 23:28:17 -0400   \n",
       "8060                       GuruFocus  Mon, 14 Sep 2020 15:13:25 -0400   \n",
       "1602                 CNBC Television  Thu, 13 Jun 2019 16:36:22 -0400   \n",
       "...                              ...                              ...   \n",
       "259                             CNBC  Thu, 15 Oct 2020 18:43:36 -0400   \n",
       "26981       Investors Business Daily  Tue, 14 May 2019 15:03:56 -0400   \n",
       "27007  Bloomberg Markets and Finance  Tue, 14 May 2019 09:48:32 -0400   \n",
       "16467                           CNBC  Mon, 09 Dec 2019 16:08:00 -0500   \n",
       "26243                         Forbes  Thu, 22 Aug 2019 14:27:40 -0400   \n",
       "\n",
       "                       topics sentiment     type  \\\n",
       "19900  tanalysis,paylimitwall  Negative  Article   \n",
       "14335                     NaN  Negative  Article   \n",
       "4940                      NaN  Negative  Article   \n",
       "8060                      NaN   Neutral  Article   \n",
       "1602                      NaN  Negative    Video   \n",
       "...                       ...       ...      ...   \n",
       "259                    cramer  Positive  Article   \n",
       "26981               tanalysis  Positive    Video   \n",
       "27007                     NaN   Neutral    Video   \n",
       "16467                     NaN  Negative  Article   \n",
       "26243                     NaN   Neutral  Article   \n",
       "\n",
       "                                                   input  \n",
       "19900  There Are Some Itchy Selling Triggers Out Ther...  \n",
       "14335  Sentiment Is Shifting In The Markets: Thornton...  \n",
       "4940   Stocks crumble as more nations shut for busine...  \n",
       "8060   Howard Marks: It's Hard to Find Good Risk/Retu...  \n",
       "1602   People too negative about odds of recession, s...  \n",
       "...                                                  ...  \n",
       "259    Jim Cramer tells traders to be ready for a 'bu...  \n",
       "26981  Technical Analysis: How To Find Top Stocks Sho...  \n",
       "27007  Pimco's Sundstrom Says Recession Is the Big Wo...  \n",
       "16467  Here's what happened to the stock market on Mo...  \n",
       "26243  Is Trump Right About The Fed? - No matter your...  \n",
       "\n",
       "[4000 rows x 12 columns]"
      ]
     },
     "execution_count": 372,
     "metadata": {},
     "output_type": "execute_result"
    }
   ],
   "source": [
    "df_gen"
   ]
  },
  {
   "cell_type": "code",
   "execution_count": 373,
   "metadata": {},
   "outputs": [],
   "source": [
    "train_set_df = pd.DataFrame()"
   ]
  },
  {
   "cell_type": "code",
   "execution_count": 374,
   "metadata": {},
   "outputs": [],
   "source": [
    "train_set_df['text'] = pd.concat([df_gen['input'], df_fb['input']], ignore_index=True)"
   ]
  },
  {
   "cell_type": "code",
   "execution_count": 375,
   "metadata": {},
   "outputs": [],
   "source": [
    "train_set_df['label'] =  pd.concat([df_gen['sentiment'], df_fb['sentiment']], ignore_index=True)"
   ]
  },
  {
   "cell_type": "code",
   "execution_count": 376,
   "metadata": {},
   "outputs": [
    {
     "data": {
      "text/html": [
       "<div>\n",
       "<style scoped>\n",
       "    .dataframe tbody tr th:only-of-type {\n",
       "        vertical-align: middle;\n",
       "    }\n",
       "\n",
       "    .dataframe tbody tr th {\n",
       "        vertical-align: top;\n",
       "    }\n",
       "\n",
       "    .dataframe thead th {\n",
       "        text-align: right;\n",
       "    }\n",
       "</style>\n",
       "<table border=\"1\" class=\"dataframe\">\n",
       "  <thead>\n",
       "    <tr style=\"text-align: right;\">\n",
       "      <th></th>\n",
       "      <th>text</th>\n",
       "      <th>label</th>\n",
       "    </tr>\n",
       "  </thead>\n",
       "  <tbody>\n",
       "    <tr>\n",
       "      <th>0</th>\n",
       "      <td>There Are Some Itchy Selling Triggers Out Ther...</td>\n",
       "      <td>Negative</td>\n",
       "    </tr>\n",
       "    <tr>\n",
       "      <th>1</th>\n",
       "      <td>Sentiment Is Shifting In The Markets: Thornton...</td>\n",
       "      <td>Negative</td>\n",
       "    </tr>\n",
       "    <tr>\n",
       "      <th>2</th>\n",
       "      <td>Stocks crumble as more nations shut for busine...</td>\n",
       "      <td>Negative</td>\n",
       "    </tr>\n",
       "    <tr>\n",
       "      <th>3</th>\n",
       "      <td>Howard Marks: It's Hard to Find Good Risk/Retu...</td>\n",
       "      <td>Neutral</td>\n",
       "    </tr>\n",
       "    <tr>\n",
       "      <th>4</th>\n",
       "      <td>People too negative about odds of recession, s...</td>\n",
       "      <td>Negative</td>\n",
       "    </tr>\n",
       "    <tr>\n",
       "      <th>...</th>\n",
       "      <td>...</td>\n",
       "      <td>...</td>\n",
       "    </tr>\n",
       "    <tr>\n",
       "      <th>5995</th>\n",
       "      <td>This Is Instagram's Opportunity to Make IGTV a...</td>\n",
       "      <td>Positive</td>\n",
       "    </tr>\n",
       "    <tr>\n",
       "      <th>5996</th>\n",
       "      <td>Zuckerberg Says Won't Launch Libra Without Reg...</td>\n",
       "      <td>Positive</td>\n",
       "    </tr>\n",
       "    <tr>\n",
       "      <th>5997</th>\n",
       "      <td>Facebook takes down Trump ads for fake census ...</td>\n",
       "      <td>Neutral</td>\n",
       "    </tr>\n",
       "    <tr>\n",
       "      <th>5998</th>\n",
       "      <td>Can Facebook Get Past the Antitrust Debacle Wh...</td>\n",
       "      <td>Positive</td>\n",
       "    </tr>\n",
       "    <tr>\n",
       "      <th>5999</th>\n",
       "      <td>It’s Not Too Late to Buy Facebook Stock - FB s...</td>\n",
       "      <td>Positive</td>\n",
       "    </tr>\n",
       "  </tbody>\n",
       "</table>\n",
       "<p>6000 rows × 2 columns</p>\n",
       "</div>"
      ],
      "text/plain": [
       "                                                   text     label\n",
       "0     There Are Some Itchy Selling Triggers Out Ther...  Negative\n",
       "1     Sentiment Is Shifting In The Markets: Thornton...  Negative\n",
       "2     Stocks crumble as more nations shut for busine...  Negative\n",
       "3     Howard Marks: It's Hard to Find Good Risk/Retu...   Neutral\n",
       "4     People too negative about odds of recession, s...  Negative\n",
       "...                                                 ...       ...\n",
       "5995  This Is Instagram's Opportunity to Make IGTV a...  Positive\n",
       "5996  Zuckerberg Says Won't Launch Libra Without Reg...  Positive\n",
       "5997  Facebook takes down Trump ads for fake census ...   Neutral\n",
       "5998  Can Facebook Get Past the Antitrust Debacle Wh...  Positive\n",
       "5999  It’s Not Too Late to Buy Facebook Stock - FB s...  Positive\n",
       "\n",
       "[6000 rows x 2 columns]"
      ]
     },
     "execution_count": 376,
     "metadata": {},
     "output_type": "execute_result"
    }
   ],
   "source": [
    "train_set_df"
   ]
  },
  {
   "cell_type": "code",
   "execution_count": 377,
   "metadata": {},
   "outputs": [],
   "source": [
    "df_fpb.columns = ['text','label']"
   ]
  },
  {
   "cell_type": "code",
   "execution_count": 378,
   "metadata": {},
   "outputs": [],
   "source": [
    "train_set_df =  pd.concat(([train_set_df, df_fpb]), ignore_index=True)"
   ]
  },
  {
   "cell_type": "code",
   "execution_count": 379,
   "metadata": {},
   "outputs": [],
   "source": [
    "pd.reset_option(\"display\")"
   ]
  },
  {
   "cell_type": "code",
   "execution_count": 380,
   "metadata": {},
   "outputs": [
    {
     "data": {
      "text/html": [
       "<div>\n",
       "<style scoped>\n",
       "    .dataframe tbody tr th:only-of-type {\n",
       "        vertical-align: middle;\n",
       "    }\n",
       "\n",
       "    .dataframe tbody tr th {\n",
       "        vertical-align: top;\n",
       "    }\n",
       "\n",
       "    .dataframe thead th {\n",
       "        text-align: right;\n",
       "    }\n",
       "</style>\n",
       "<table border=\"1\" class=\"dataframe\">\n",
       "  <thead>\n",
       "    <tr style=\"text-align: right;\">\n",
       "      <th></th>\n",
       "      <th>text</th>\n",
       "      <th>label</th>\n",
       "    </tr>\n",
       "  </thead>\n",
       "  <tbody>\n",
       "    <tr>\n",
       "      <th>0</th>\n",
       "      <td>There Are Some Itchy Selling Triggers Out Ther...</td>\n",
       "      <td>Negative</td>\n",
       "    </tr>\n",
       "    <tr>\n",
       "      <th>1</th>\n",
       "      <td>Sentiment Is Shifting In The Markets: Thornton...</td>\n",
       "      <td>Negative</td>\n",
       "    </tr>\n",
       "    <tr>\n",
       "      <th>2</th>\n",
       "      <td>Stocks crumble as more nations shut for busine...</td>\n",
       "      <td>Negative</td>\n",
       "    </tr>\n",
       "    <tr>\n",
       "      <th>3</th>\n",
       "      <td>Howard Marks: It's Hard to Find Good Risk/Retu...</td>\n",
       "      <td>Neutral</td>\n",
       "    </tr>\n",
       "    <tr>\n",
       "      <th>4</th>\n",
       "      <td>People too negative about odds of recession, s...</td>\n",
       "      <td>Negative</td>\n",
       "    </tr>\n",
       "    <tr>\n",
       "      <th>...</th>\n",
       "      <td>...</td>\n",
       "      <td>...</td>\n",
       "    </tr>\n",
       "    <tr>\n",
       "      <th>9448</th>\n",
       "      <td>Operating result for the 12-month period decre...</td>\n",
       "      <td>negative</td>\n",
       "    </tr>\n",
       "    <tr>\n",
       "      <th>9449</th>\n",
       "      <td>HELSINKI Thomson Financial - Shares in Cargote...</td>\n",
       "      <td>negative</td>\n",
       "    </tr>\n",
       "    <tr>\n",
       "      <th>9450</th>\n",
       "      <td>LONDON MarketWatch -- Share prices ended lower...</td>\n",
       "      <td>negative</td>\n",
       "    </tr>\n",
       "    <tr>\n",
       "      <th>9451</th>\n",
       "      <td>Operating profit fell to EUR 35.4 mn from EUR ...</td>\n",
       "      <td>negative</td>\n",
       "    </tr>\n",
       "    <tr>\n",
       "      <th>9452</th>\n",
       "      <td>Sales in Finland decreased by 10.5 % in Januar...</td>\n",
       "      <td>negative</td>\n",
       "    </tr>\n",
       "  </tbody>\n",
       "</table>\n",
       "<p>9453 rows × 2 columns</p>\n",
       "</div>"
      ],
      "text/plain": [
       "                                                   text     label\n",
       "0     There Are Some Itchy Selling Triggers Out Ther...  Negative\n",
       "1     Sentiment Is Shifting In The Markets: Thornton...  Negative\n",
       "2     Stocks crumble as more nations shut for busine...  Negative\n",
       "3     Howard Marks: It's Hard to Find Good Risk/Retu...   Neutral\n",
       "4     People too negative about odds of recession, s...  Negative\n",
       "...                                                 ...       ...\n",
       "9448  Operating result for the 12-month period decre...  negative\n",
       "9449  HELSINKI Thomson Financial - Shares in Cargote...  negative\n",
       "9450  LONDON MarketWatch -- Share prices ended lower...  negative\n",
       "9451  Operating profit fell to EUR 35.4 mn from EUR ...  negative\n",
       "9452  Sales in Finland decreased by 10.5 % in Januar...  negative\n",
       "\n",
       "[9453 rows x 2 columns]"
      ]
     },
     "execution_count": 380,
     "metadata": {},
     "output_type": "execute_result"
    }
   ],
   "source": [
    "train_set_df"
   ]
  },
  {
   "cell_type": "code",
   "execution_count": 381,
   "metadata": {},
   "outputs": [],
   "source": [
    "train_set_df['label'] = train_set_df['label'].replace('negative',0)\n",
    "train_set_df['label'] = train_set_df['label'].replace('neutral',1)\n",
    "train_set_df['label'] = train_set_df['label'].replace('positive',2)"
   ]
  },
  {
   "cell_type": "code",
   "execution_count": 382,
   "metadata": {},
   "outputs": [],
   "source": [
    "train_set_df['label'] = train_set_df['label'].replace('Negative',0)\n",
    "train_set_df['label'] = train_set_df['label'].replace('Neutral',1)\n",
    "train_set_df['label'] = train_set_df['label'].replace('Positive',2)"
   ]
  },
  {
   "cell_type": "code",
   "execution_count": 405,
   "metadata": {},
   "outputs": [],
   "source": [
    "train_set_df.to_csv('train_set_df.csv', index=False)"
   ]
  },
  {
   "cell_type": "code",
   "execution_count": 384,
   "metadata": {},
   "outputs": [
    {
     "data": {
      "text/plain": [
       "Counter({0: 2324, 1: 4315, 2: 2814})"
      ]
     },
     "execution_count": 384,
     "metadata": {},
     "output_type": "execute_result"
    }
   ],
   "source": [
    "Counter(train_set_df.label)"
   ]
  },
  {
   "cell_type": "code",
   "execution_count": 385,
   "metadata": {},
   "outputs": [
    {
     "data": {
      "text/plain": [
       "9453"
      ]
     },
     "execution_count": 385,
     "metadata": {},
     "output_type": "execute_result"
    }
   ],
   "source": [
    "len(train_set_df)"
   ]
  },
  {
   "cell_type": "code",
   "execution_count": 386,
   "metadata": {},
   "outputs": [
    {
     "data": {
      "text/plain": [
       "Counter({'Negative': 1277, 'Neutral': 1463, 'Positive': 1260})"
      ]
     },
     "execution_count": 386,
     "metadata": {},
     "output_type": "execute_result"
    }
   ],
   "source": [
    "Counter(df_gen.sentiment)"
   ]
  },
  {
   "cell_type": "code",
   "execution_count": 387,
   "metadata": {},
   "outputs": [
    {
     "data": {
      "text/plain": [
       "Counter({'neutral': 2146, 'positive': 887, 'negative': 420})"
      ]
     },
     "execution_count": 387,
     "metadata": {},
     "output_type": "execute_result"
    }
   ],
   "source": [
    "Counter(df_fpb.label)"
   ]
  },
  {
   "cell_type": "code",
   "execution_count": 404,
   "metadata": {},
   "outputs": [
    {
     "data": {
      "text/plain": [
       "Counter({False: 8782, True: 671})"
      ]
     },
     "execution_count": 404,
     "metadata": {},
     "output_type": "execute_result"
    }
   ],
   "source": [
    "Counter(train_set_df['text'].str.contains('Market'))"
   ]
  },
  {
   "cell_type": "code",
   "execution_count": 395,
   "metadata": {},
   "outputs": [
    {
     "data": {
      "text/plain": [
       "\"“No Surprises” Department: Fed Leaves Rates Alone, Keeps “Free Money” Policy In Place - We have a market-friendly atmosphere this week as a “house divided” appears to be the outcome of the election and the Fed just let investors know it's maintaining its “hands off” monetary policy that keeps borrowers happy.\""
      ]
     },
     "execution_count": 395,
     "metadata": {},
     "output_type": "execute_result"
    }
   ],
   "source": [
    "train_set_df['text'].max()"
   ]
  },
  {
   "cell_type": "code",
   "execution_count": null,
   "metadata": {},
   "outputs": [],
   "source": []
  }
 ],
 "metadata": {
  "kernelspec": {
   "display_name": "Python 3",
   "language": "python",
   "name": "python3"
  },
  "language_info": {
   "codemirror_mode": {
    "name": "ipython",
    "version": 3
   },
   "file_extension": ".py",
   "mimetype": "text/x-python",
   "name": "python",
   "nbconvert_exporter": "python",
   "pygments_lexer": "ipython3",
   "version": "3.8.3"
  }
 },
 "nbformat": 4,
 "nbformat_minor": 4
}
