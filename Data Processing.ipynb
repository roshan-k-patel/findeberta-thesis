{
 "cells": [
  {
   "cell_type": "code",
   "execution_count": 35,
   "metadata": {},
   "outputs": [],
   "source": [
    "import pandas as pd\n",
    "from collections import Counter"
   ]
  },
  {
   "cell_type": "code",
   "execution_count": 14,
   "metadata": {},
   "outputs": [],
   "source": [
    "df_fb = pd.read_csv(\"./data/facebook/full-facebook.csv\")\n",
    "df_general = pd.read_csv(\"./data/general/full-general.csv\")"
   ]
  },
  {
   "cell_type": "code",
   "execution_count": 15,
   "metadata": {},
   "outputs": [],
   "source": [
    "df_fb['news_set']='Facebook'"
   ]
  },
  {
   "cell_type": "code",
   "execution_count": 16,
   "metadata": {},
   "outputs": [],
   "source": [
    "df_general['tickers']=''\n",
    "df_general['news_set']='General'"
   ]
  },
  {
   "cell_type": "code",
   "execution_count": 17,
   "metadata": {},
   "outputs": [
    {
     "data": {
      "text/plain": [
       "12"
      ]
     },
     "execution_count": 17,
     "metadata": {},
     "output_type": "execute_result"
    }
   ],
   "source": [
    "df_fb.shape[1]"
   ]
  },
  {
   "cell_type": "code",
   "execution_count": 18,
   "metadata": {},
   "outputs": [
    {
     "data": {
      "text/plain": [
       "12"
      ]
     },
     "execution_count": 18,
     "metadata": {},
     "output_type": "execute_result"
    }
   ],
   "source": [
    "df_general.shape[1]"
   ]
  },
  {
   "cell_type": "code",
   "execution_count": 26,
   "metadata": {},
   "outputs": [
    {
     "data": {
      "text/html": [
       "<div>\n",
       "<style scoped>\n",
       "    .dataframe tbody tr th:only-of-type {\n",
       "        vertical-align: middle;\n",
       "    }\n",
       "\n",
       "    .dataframe tbody tr th {\n",
       "        vertical-align: top;\n",
       "    }\n",
       "\n",
       "    .dataframe thead th {\n",
       "        text-align: right;\n",
       "    }\n",
       "</style>\n",
       "<table border=\"1\" class=\"dataframe\">\n",
       "  <thead>\n",
       "    <tr style=\"text-align: right;\">\n",
       "      <th></th>\n",
       "      <th>Unnamed: 0</th>\n",
       "      <th>news_url</th>\n",
       "      <th>image_url</th>\n",
       "      <th>title</th>\n",
       "      <th>text</th>\n",
       "      <th>source_name</th>\n",
       "      <th>date</th>\n",
       "      <th>topics</th>\n",
       "      <th>sentiment</th>\n",
       "      <th>type</th>\n",
       "      <th>tickers</th>\n",
       "      <th>news_set</th>\n",
       "    </tr>\n",
       "  </thead>\n",
       "  <tbody>\n",
       "    <tr>\n",
       "      <th>0</th>\n",
       "      <td>0</td>\n",
       "      <td>https://www.forbes.com/sites/waynecrews/2020/1...</td>\n",
       "      <td>https://cdn.snapi.dev/images/v1/h/o/house-anti...</td>\n",
       "      <td>House Antitrust Report Targets Big Tech Monopo...</td>\n",
       "      <td>Coercive antitrust intervention is the origina...</td>\n",
       "      <td>Forbes</td>\n",
       "      <td>Tue, 06 Oct 2020 22:23:56 -0400</td>\n",
       "      <td>NaN</td>\n",
       "      <td>Negative</td>\n",
       "      <td>Article</td>\n",
       "      <td>AAPL,AMZN,FB,GOOG,GOOGL</td>\n",
       "      <td>Facebook</td>\n",
       "    </tr>\n",
       "    <tr>\n",
       "      <th>1</th>\n",
       "      <td>1</td>\n",
       "      <td>https://www.reuters.com/article/us-usa-tech-an...</td>\n",
       "      <td>https://cdn.snapi.dev/images/v1/1/0/105940455-...</td>\n",
       "      <td>How Big Tech companies gain and maintain domin...</td>\n",
       "      <td>Democrats from a U.S. House of Representatives...</td>\n",
       "      <td>Reuters</td>\n",
       "      <td>Tue, 06 Oct 2020 19:36:00 -0400</td>\n",
       "      <td>NaN</td>\n",
       "      <td>Neutral</td>\n",
       "      <td>Article</td>\n",
       "      <td>AAPL,AMZN,FB,GOOG,GOOGL</td>\n",
       "      <td>Facebook</td>\n",
       "    </tr>\n",
       "  </tbody>\n",
       "</table>\n",
       "</div>"
      ],
      "text/plain": [
       "   Unnamed: 0                                           news_url  \\\n",
       "0           0  https://www.forbes.com/sites/waynecrews/2020/1...   \n",
       "1           1  https://www.reuters.com/article/us-usa-tech-an...   \n",
       "\n",
       "                                           image_url  \\\n",
       "0  https://cdn.snapi.dev/images/v1/h/o/house-anti...   \n",
       "1  https://cdn.snapi.dev/images/v1/1/0/105940455-...   \n",
       "\n",
       "                                               title  \\\n",
       "0  House Antitrust Report Targets Big Tech Monopo...   \n",
       "1  How Big Tech companies gain and maintain domin...   \n",
       "\n",
       "                                                text source_name  \\\n",
       "0  Coercive antitrust intervention is the origina...      Forbes   \n",
       "1  Democrats from a U.S. House of Representatives...     Reuters   \n",
       "\n",
       "                              date topics sentiment     type  \\\n",
       "0  Tue, 06 Oct 2020 22:23:56 -0400    NaN  Negative  Article   \n",
       "1  Tue, 06 Oct 2020 19:36:00 -0400    NaN   Neutral  Article   \n",
       "\n",
       "                   tickers  news_set  \n",
       "0  AAPL,AMZN,FB,GOOG,GOOGL  Facebook  \n",
       "1  AAPL,AMZN,FB,GOOG,GOOGL  Facebook  "
      ]
     },
     "execution_count": 26,
     "metadata": {},
     "output_type": "execute_result"
    }
   ],
   "source": [
    "df_fb.head()[0:2]"
   ]
  },
  {
   "cell_type": "code",
   "execution_count": 27,
   "metadata": {},
   "outputs": [
    {
     "data": {
      "text/html": [
       "<div>\n",
       "<style scoped>\n",
       "    .dataframe tbody tr th:only-of-type {\n",
       "        vertical-align: middle;\n",
       "    }\n",
       "\n",
       "    .dataframe tbody tr th {\n",
       "        vertical-align: top;\n",
       "    }\n",
       "\n",
       "    .dataframe thead th {\n",
       "        text-align: right;\n",
       "    }\n",
       "</style>\n",
       "<table border=\"1\" class=\"dataframe\">\n",
       "  <thead>\n",
       "    <tr style=\"text-align: right;\">\n",
       "      <th></th>\n",
       "      <th>Unnamed: 0</th>\n",
       "      <th>news_url</th>\n",
       "      <th>image_url</th>\n",
       "      <th>title</th>\n",
       "      <th>text</th>\n",
       "      <th>source_name</th>\n",
       "      <th>date</th>\n",
       "      <th>topics</th>\n",
       "      <th>sentiment</th>\n",
       "      <th>type</th>\n",
       "      <th>tickers</th>\n",
       "      <th>news_set</th>\n",
       "    </tr>\n",
       "  </thead>\n",
       "  <tbody>\n",
       "    <tr>\n",
       "      <th>0</th>\n",
       "      <td>0</td>\n",
       "      <td>https://www.youtube.com/watch?v=o6K_XRAa-hk</td>\n",
       "      <td>https://cdn.snapi.dev/images/v1/p/u/137-millio...</td>\n",
       "      <td>1.37 million jobs added in August, Economist l...</td>\n",
       "      <td>The US economy added back a greater than expec...</td>\n",
       "      <td>Yahoo Finance</td>\n",
       "      <td>Fri, 04 Sep 2020 23:50:08 -0400</td>\n",
       "      <td>NaN</td>\n",
       "      <td>Positive</td>\n",
       "      <td>Video</td>\n",
       "      <td></td>\n",
       "      <td>General</td>\n",
       "    </tr>\n",
       "    <tr>\n",
       "      <th>1</th>\n",
       "      <td>1</td>\n",
       "      <td>https://www.youtube.com/watch?v=4_5q4wXNde0</td>\n",
       "      <td>https://cdn.snapi.dev/images/v1/m/q/would-be-s...</td>\n",
       "      <td>Would be Surprised if Recent Selloff is Histor...</td>\n",
       "      <td>Former U.S. Treasury Secretary Lawrence H. Sum...</td>\n",
       "      <td>Bloomberg Markets and Finance</td>\n",
       "      <td>Fri, 04 Sep 2020 21:37:24 -0400</td>\n",
       "      <td>NaN</td>\n",
       "      <td>Negative</td>\n",
       "      <td>Video</td>\n",
       "      <td></td>\n",
       "      <td>General</td>\n",
       "    </tr>\n",
       "  </tbody>\n",
       "</table>\n",
       "</div>"
      ],
      "text/plain": [
       "   Unnamed: 0                                     news_url  \\\n",
       "0           0  https://www.youtube.com/watch?v=o6K_XRAa-hk   \n",
       "1           1  https://www.youtube.com/watch?v=4_5q4wXNde0   \n",
       "\n",
       "                                           image_url  \\\n",
       "0  https://cdn.snapi.dev/images/v1/p/u/137-millio...   \n",
       "1  https://cdn.snapi.dev/images/v1/m/q/would-be-s...   \n",
       "\n",
       "                                               title  \\\n",
       "0  1.37 million jobs added in August, Economist l...   \n",
       "1  Would be Surprised if Recent Selloff is Histor...   \n",
       "\n",
       "                                                text  \\\n",
       "0  The US economy added back a greater than expec...   \n",
       "1  Former U.S. Treasury Secretary Lawrence H. Sum...   \n",
       "\n",
       "                     source_name                             date topics  \\\n",
       "0                  Yahoo Finance  Fri, 04 Sep 2020 23:50:08 -0400    NaN   \n",
       "1  Bloomberg Markets and Finance  Fri, 04 Sep 2020 21:37:24 -0400    NaN   \n",
       "\n",
       "  sentiment   type tickers news_set  \n",
       "0  Positive  Video          General  \n",
       "1  Negative  Video          General  "
      ]
     },
     "execution_count": 27,
     "metadata": {},
     "output_type": "execute_result"
    }
   ],
   "source": [
    "df_general.head()[0:2]"
   ]
  },
  {
   "cell_type": "code",
   "execution_count": 29,
   "metadata": {},
   "outputs": [],
   "source": [
    "news_list = [df_fb, df_general]\n",
    "df_full = pd.concat(news_list, ignore_index=True)"
   ]
  },
  {
   "cell_type": "code",
   "execution_count": 32,
   "metadata": {},
   "outputs": [
    {
     "data": {
      "text/plain": [
       "36711"
      ]
     },
     "execution_count": 32,
     "metadata": {},
     "output_type": "execute_result"
    }
   ],
   "source": [
    "df_full.shape[0]"
   ]
  },
  {
   "cell_type": "code",
   "execution_count": 41,
   "metadata": {},
   "outputs": [],
   "source": [
    "df_full.to_csv(\"./data/data.csv\")"
   ]
  },
  {
   "cell_type": "code",
   "execution_count": 33,
   "metadata": {},
   "outputs": [
    {
     "data": {
      "text/plain": [
       "12"
      ]
     },
     "execution_count": 33,
     "metadata": {},
     "output_type": "execute_result"
    }
   ],
   "source": [
    "df_full.shape[1]"
   ]
  },
  {
   "cell_type": "code",
   "execution_count": 40,
   "metadata": {},
   "outputs": [
    {
     "data": {
      "text/plain": [
       "[('CNBC Television', 6261),\n",
       " ('CNBC', 4310),\n",
       " ('Reuters', 3506),\n",
       " ('Seeking Alpha', 2269),\n",
       " ('Forbes', 2059),\n",
       " ('Market Watch', 2009),\n",
       " ('Bloomberg Markets and Finance', 1876),\n",
       " ('Yahoo Finance', 1833),\n",
       " ('The Motley Fool', 1197),\n",
       " ('Benzinga', 1028),\n",
       " ('InvestorPlace', 1026),\n",
       " ('GuruFocus', 803),\n",
       " ('TechCrunch', 689),\n",
       " ('ETF Trends', 599),\n",
       " ('Fox Business', 594),\n",
       " ('See It Market', 588),\n",
       " ('Zacks Investment Research', 582),\n",
       " ('CNN Business', 574),\n",
       " ('Investors Business Daily', 472),\n",
       " ('New York Post', 456),\n",
       " ('CNET', 455),\n",
       " ('Business Insider', 407),\n",
       " ('NYTimes', 397),\n",
       " ('The Guardian', 330),\n",
       " ('Investopedia', 278),\n",
       " ('CNBC International TV', 253),\n",
       " ('Bloomberg Technology', 249),\n",
       " ('Kiplinger', 233),\n",
       " ('Barrons', 213),\n",
       " ('24/7 Wall Street', 195),\n",
       " ('Skynews', 136),\n",
       " ('Fast Company', 126),\n",
       " ('The Street', 97),\n",
       " ('Deadline', 91),\n",
       " ('Invezz', 67),\n",
       " ('PYMNTS', 60),\n",
       " ('Morningstar', 55),\n",
       " ('Iris', 51),\n",
       " ('Proactive Investors', 46),\n",
       " ('GeekWire', 41),\n",
       " ('Schaeffers Research', 40),\n",
       " ('CNN', 30),\n",
       " ('Engadget', 21),\n",
       " ('Cheddar', 20),\n",
       " ('Wall Street Journal', 19),\n",
       " ('Huffington Post', 10),\n",
       " ('FreightWaves', 9),\n",
       " ('The Verge', 8),\n",
       " ('Digital Trends', 8),\n",
       " ('PRNewsWire', 7),\n",
       " ('Pulse2', 7),\n",
       " ('VentureBeat', 7),\n",
       " ('The Dog of Wall Street', 5),\n",
       " ('Insider Monkey', 4),\n",
       " ('GlobeNewsWire', 3),\n",
       " ('Business Wire', 1),\n",
       " ('OTC PR Wire', 1)]"
      ]
     },
     "execution_count": 40,
     "metadata": {},
     "output_type": "execute_result"
    }
   ],
   "source": [
    "Counter(df_full.source_name).most_common()"
   ]
  },
  {
   "cell_type": "code",
   "execution_count": 42,
   "metadata": {},
   "outputs": [
    {
     "data": {
      "text/plain": [
       "[('CNBC', 880),\n",
       " ('CNBC Television', 850),\n",
       " ('The Motley Fool', 695),\n",
       " ('Reuters', 480),\n",
       " ('TechCrunch', 472),\n",
       " ('CNET', 399),\n",
       " ('InvestorPlace', 393),\n",
       " ('Market Watch', 376),\n",
       " ('Benzinga', 333),\n",
       " ('Zacks Investment Research', 302),\n",
       " ('Forbes', 270),\n",
       " ('Seeking Alpha', 234),\n",
       " ('The Guardian', 222),\n",
       " ('CNN Business', 190),\n",
       " ('Yahoo Finance', 178),\n",
       " ('NYTimes', 158),\n",
       " ('New York Post', 141),\n",
       " ('Bloomberg Technology', 135),\n",
       " ('Fast Company', 105),\n",
       " ('Skynews', 105),\n",
       " ('Investors Business Daily', 101),\n",
       " ('Fox Business', 90),\n",
       " ('Business Insider', 84),\n",
       " ('GuruFocus', 81),\n",
       " ('24/7 Wall Street', 78),\n",
       " ('Deadline', 65),\n",
       " ('Investopedia', 63),\n",
       " ('Bloomberg Markets and Finance', 54),\n",
       " ('CNBC International TV', 46),\n",
       " ('PYMNTS', 30),\n",
       " ('GeekWire', 23),\n",
       " ('The Street', 15),\n",
       " ('Invezz', 14),\n",
       " ('CNN', 10),\n",
       " ('Barrons', 9),\n",
       " ('PRNewsWire', 7),\n",
       " ('VentureBeat', 7),\n",
       " ('Engadget', 6),\n",
       " ('Cheddar', 5),\n",
       " ('Pulse2', 5),\n",
       " ('ETF Trends', 4),\n",
       " ('The Verge', 4),\n",
       " ('Kiplinger', 4),\n",
       " ('See It Market', 4),\n",
       " ('Wall Street Journal', 3),\n",
       " ('GlobeNewsWire', 3),\n",
       " ('Huffington Post', 3),\n",
       " ('Schaeffers Research', 2),\n",
       " ('Insider Monkey', 2),\n",
       " ('Digital Trends', 2),\n",
       " ('Iris', 2),\n",
       " ('Proactive Investors', 2),\n",
       " ('The Dog of Wall Street', 1),\n",
       " ('Business Wire', 1),\n",
       " ('OTC PR Wire', 1)]"
      ]
     },
     "execution_count": 42,
     "metadata": {},
     "output_type": "execute_result"
    }
   ],
   "source": [
    "Counter(df_fb.source_name).most_common()"
   ]
  },
  {
   "cell_type": "code",
   "execution_count": 47,
   "metadata": {},
   "outputs": [],
   "source": [
    "common = list(Counter(df_full.source_name).most_common())"
   ]
  },
  {
   "cell_type": "code",
   "execution_count": 48,
   "metadata": {},
   "outputs": [
    {
     "data": {
      "text/plain": [
       "57"
      ]
     },
     "execution_count": 48,
     "metadata": {},
     "output_type": "execute_result"
    }
   ],
   "source": [
    "len(common)"
   ]
  },
  {
   "cell_type": "code",
   "execution_count": null,
   "metadata": {},
   "outputs": [],
   "source": []
  }
 ],
 "metadata": {
  "kernelspec": {
   "display_name": "Python 3",
   "language": "python",
   "name": "python3"
  },
  "language_info": {
   "codemirror_mode": {
    "name": "ipython",
    "version": 3
   },
   "file_extension": ".py",
   "mimetype": "text/x-python",
   "name": "python",
   "nbconvert_exporter": "python",
   "pygments_lexer": "ipython3",
   "version": "3.8.3"
  }
 },
 "nbformat": 4,
 "nbformat_minor": 4
}
